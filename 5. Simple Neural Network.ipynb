{
 "cells": [
  {
   "cell_type": "markdown",
   "metadata": {},
   "source": [
    "# Setting Environment"
   ]
  },
  {
   "cell_type": "code",
   "execution_count": 1,
   "metadata": {},
   "outputs": [],
   "source": [
    "import numpy as np\n",
    "import pandas as pd\n",
    "import matplotlib.pyplot as plt\n",
    "import seaborn as sns\n",
    "%matplotlib inline\n",
    "\n",
    "import ast\n",
    "from sklearn.model_selection import train_test_split\n",
    "from sklearn.metrics import confusion_matrix, classification_report, accuracy_score\n",
    "from keras.preprocessing.sequence import pad_sequences\n",
    "from keras.models import Sequential, Model\n",
    "from keras.layers import  Dense, SimpleRNN, Embedding, Input, Activation, Dropout\n",
    "from keras.utils import to_categorical\n",
    "from keras.preprocessing.text import Tokenizer\n",
    "from sklearn.feature_extraction.text import CountVectorizer, TfidfVectorizer\n",
    "from sklearn.preprocessing import LabelEncoder\n",
    "from keras.optimizers import RMSprop\n",
    "from keras.callbacks import Callback, EarlyStopping"
   ]
  },
  {
   "cell_type": "code",
   "execution_count": 2,
   "metadata": {},
   "outputs": [
    {
     "data": {
      "text/plain": [
       "((3627,), (3627,))"
      ]
     },
     "execution_count": 2,
     "metadata": {},
     "output_type": "execute_result"
    }
   ],
   "source": [
    "df = pd.read_csv('./combined_tweets.csv')\n",
    "X = df.tweet\n",
    "y = df.sentimen\n",
    "X.shape, y.shape"
   ]
  },
  {
   "cell_type": "code",
   "execution_count": 3,
   "metadata": {},
   "outputs": [
    {
     "name": "stdout",
     "output_type": "stream",
     "text": [
      "Encoded labels: [2 0 0 ... 1 2 0]\n",
      "Original labels: ['positif' 'negatif' 'negatif' ... 'netral' 'positif' 'negatif']\n"
     ]
    }
   ],
   "source": [
    "# buat label encoder\n",
    "labelencoder = LabelEncoder()\n",
    "\n",
    "y = labelencoder.fit_transform(df.sentimen)\n",
    "print('Encoded labels:', y)\n",
    "print('Original labels:', labelencoder.inverse_transform(y))"
   ]
  },
  {
   "cell_type": "markdown",
   "metadata": {},
   "source": [
    "# Data Modeling"
   ]
  },
  {
   "cell_type": "code",
   "execution_count": 4,
   "metadata": {},
   "outputs": [],
   "source": [
    "X_train, X_test, y_train, y_test = train_test_split(X, to_categorical(y,3), test_size=0.20, random_state=42)"
   ]
  },
  {
   "cell_type": "code",
   "execution_count": 5,
   "metadata": {},
   "outputs": [],
   "source": [
    "max_words = 1000\n",
    "max_len = 3000\n",
    "tok = Tokenizer(num_words=max_words)\n",
    "tok.fit_on_texts(X_train)\n",
    "X_train_sequences = tok.texts_to_sequences(X_train)\n",
    "X_train_sequences_matrix = pad_sequences(X_train_sequences,maxlen=max_len)\n",
    "\n",
    "X_test_sequences = tok.texts_to_sequences(X_test)\n",
    "X_test_sequences_matrix = pad_sequences(X_test_sequences,maxlen=max_len)\n"
   ]
  },
  {
   "cell_type": "code",
   "execution_count": 6,
   "metadata": {},
   "outputs": [
    {
     "data": {
      "text/plain": [
       "((2901,), (726,), (2901, 3), (726, 3))"
      ]
     },
     "execution_count": 6,
     "metadata": {},
     "output_type": "execute_result"
    }
   ],
   "source": [
    "X_train.shape, X_test.shape, y_train.shape, y_test.shape"
   ]
  },
  {
   "cell_type": "code",
   "execution_count": 7,
   "metadata": {},
   "outputs": [
    {
     "data": {
      "text/plain": [
       "((2901, 3000), (726, 3000), (2901, 3), (726, 3))"
      ]
     },
     "execution_count": 7,
     "metadata": {},
     "output_type": "execute_result"
    }
   ],
   "source": [
    "X_train_sequences_matrix.shape, X_test_sequences_matrix.shape, y_train.shape, y_test.shape"
   ]
  },
  {
   "cell_type": "markdown",
   "metadata": {},
   "source": [
    "# Model Training with:"
   ]
  },
  {
   "cell_type": "code",
   "execution_count": 8,
   "metadata": {},
   "outputs": [],
   "source": [
    "# define RNN\n",
    "def SNN():\n",
    "    inputs = Input(name='inputs', shape=[max_len])\n",
    "    layer = Embedding(max_words, 5, input_length=max_len)(inputs)\n",
    "    layer = SimpleRNN(8)(layer)\n",
    "    layer = Dense(4, name='FC1')(layer)\n",
    "    layer = Dropout(0.2)(layer)\n",
    "    layer = Activation('relu')(layer)\n",
    "    layer = Dropout(0.2)(layer)\n",
    "    layer = Dense(3, name='out_layer')(layer)\n",
    "    layer = Activation('softmax')(layer)\n",
    "    model = Model(inputs=inputs, outputs=layer)\n",
    "    return model"
   ]
  },
  {
   "cell_type": "code",
   "execution_count": 9,
   "metadata": {},
   "outputs": [
    {
     "name": "stdout",
     "output_type": "stream",
     "text": [
      "Model: \"model\"\n",
      "_________________________________________________________________\n",
      " Layer (type)                Output Shape              Param #   \n",
      "=================================================================\n",
      " inputs (InputLayer)         [(None, 3000)]            0         \n",
      "                                                                 \n",
      " embedding (Embedding)       (None, 3000, 5)           5000      \n",
      "                                                                 \n",
      " simple_rnn (SimpleRNN)      (None, 8)                 112       \n",
      "                                                                 \n",
      " FC1 (Dense)                 (None, 4)                 36        \n",
      "                                                                 \n",
      " dropout (Dropout)           (None, 4)                 0         \n",
      "                                                                 \n",
      " activation (Activation)     (None, 4)                 0         \n",
      "                                                                 \n",
      " dropout_1 (Dropout)         (None, 4)                 0         \n",
      "                                                                 \n",
      " out_layer (Dense)           (None, 3)                 15        \n",
      "                                                                 \n",
      " activation_1 (Activation)   (None, 3)                 0         \n",
      "                                                                 \n",
      "=================================================================\n",
      "Total params: 5163 (20.17 KB)\n",
      "Trainable params: 5163 (20.17 KB)\n",
      "Non-trainable params: 0 (0.00 Byte)\n",
      "_________________________________________________________________\n"
     ]
    }
   ],
   "source": [
    "model = SNN()\n",
    "model.summary()\n",
    "model.compile(loss='categorical_crossentropy', optimizer=RMSprop(), metrics=['accuracy'])"
   ]
  },
  {
   "cell_type": "code",
   "execution_count": 10,
   "metadata": {},
   "outputs": [
    {
     "name": "stdout",
     "output_type": "stream",
     "text": [
      "Epoch 1/25\n",
      "73/73 [==============================] - 62s 830ms/step - loss: 1.1035 - accuracy: 0.3392 - val_loss: 1.0980 - val_accuracy: 0.3391\n",
      "Epoch 2/25\n",
      "73/73 [==============================] - 60s 824ms/step - loss: 1.0891 - accuracy: 0.3664 - val_loss: 1.0908 - val_accuracy: 0.3597\n",
      "Epoch 3/25\n",
      "73/73 [==============================] - 61s 832ms/step - loss: 1.0713 - accuracy: 0.3987 - val_loss: 1.0827 - val_accuracy: 0.3873\n",
      "Epoch 4/25\n",
      "73/73 [==============================] - 63s 855ms/step - loss: 1.0487 - accuracy: 0.4405 - val_loss: 1.0702 - val_accuracy: 0.4096\n",
      "Epoch 5/25\n",
      "73/73 [==============================] - 62s 855ms/step - loss: 1.0217 - accuracy: 0.4487 - val_loss: 1.0611 - val_accuracy: 0.4217\n",
      "Epoch 6/25\n",
      "73/73 [==============================] - 63s 857ms/step - loss: 0.9908 - accuracy: 0.4823 - val_loss: 1.0534 - val_accuracy: 0.4389\n",
      "Epoch 7/25\n",
      "73/73 [==============================] - 68s 935ms/step - loss: 0.9554 - accuracy: 0.5237 - val_loss: 1.0420 - val_accuracy: 0.4355\n",
      "Epoch 8/25\n",
      "73/73 [==============================] - 63s 859ms/step - loss: 0.9251 - accuracy: 0.5306 - val_loss: 1.0383 - val_accuracy: 0.4509\n",
      "Epoch 9/25\n",
      "73/73 [==============================] - 62s 851ms/step - loss: 0.9155 - accuracy: 0.5405 - val_loss: 1.0368 - val_accuracy: 0.4647\n",
      "Epoch 10/25\n",
      "73/73 [==============================] - 62s 855ms/step - loss: 0.8768 - accuracy: 0.5504 - val_loss: 1.0370 - val_accuracy: 0.4750\n",
      "Epoch 11/25\n",
      "73/73 [==============================] - 63s 862ms/step - loss: 0.8664 - accuracy: 0.5655 - val_loss: 1.0312 - val_accuracy: 0.4716\n",
      "Epoch 12/25\n",
      "73/73 [==============================] - 64s 881ms/step - loss: 0.8342 - accuracy: 0.6004 - val_loss: 1.0365 - val_accuracy: 0.4957\n",
      "Epoch 13/25\n",
      "73/73 [==============================] - 62s 853ms/step - loss: 0.8073 - accuracy: 0.6147 - val_loss: 1.0260 - val_accuracy: 0.5146\n",
      "Epoch 14/25\n",
      "73/73 [==============================] - 65s 894ms/step - loss: 0.8066 - accuracy: 0.6155 - val_loss: 1.1071 - val_accuracy: 0.4251\n",
      "Epoch 15/25\n",
      "73/73 [==============================] - 63s 866ms/step - loss: 0.7586 - accuracy: 0.6448 - val_loss: 1.0245 - val_accuracy: 0.5198\n",
      "Epoch 16/25\n",
      "73/73 [==============================] - 62s 854ms/step - loss: 0.7443 - accuracy: 0.6634 - val_loss: 1.0361 - val_accuracy: 0.5129\n",
      "Epoch 17/25\n",
      "73/73 [==============================] - 63s 857ms/step - loss: 0.7424 - accuracy: 0.6565 - val_loss: 1.0370 - val_accuracy: 0.5422\n",
      "Epoch 18/25\n",
      "73/73 [==============================] - 65s 889ms/step - loss: 0.7141 - accuracy: 0.6711 - val_loss: 1.0530 - val_accuracy: 0.5353\n",
      "Epoch 19/25\n",
      "73/73 [==============================] - 66s 899ms/step - loss: 0.6964 - accuracy: 0.6935 - val_loss: 1.0734 - val_accuracy: 0.5422\n",
      "Epoch 20/25\n",
      "73/73 [==============================] - 62s 855ms/step - loss: 0.6869 - accuracy: 0.7026 - val_loss: 1.0889 - val_accuracy: 0.5473\n",
      "Epoch 21/25\n",
      "73/73 [==============================] - 62s 848ms/step - loss: 0.6671 - accuracy: 0.7060 - val_loss: 1.1118 - val_accuracy: 0.5508\n",
      "Epoch 22/25\n",
      "73/73 [==============================] - 62s 845ms/step - loss: 0.6495 - accuracy: 0.7185 - val_loss: 1.1116 - val_accuracy: 0.5456\n",
      "Epoch 23/25\n",
      "73/73 [==============================] - 63s 860ms/step - loss: 0.6409 - accuracy: 0.7353 - val_loss: 1.1331 - val_accuracy: 0.5422\n",
      "Epoch 24/25\n",
      "73/73 [==============================] - 64s 875ms/step - loss: 0.6286 - accuracy: 0.7315 - val_loss: 1.1476 - val_accuracy: 0.5611\n",
      "Epoch 25/25\n",
      "73/73 [==============================] - 66s 899ms/step - loss: 0.6011 - accuracy: 0.7547 - val_loss: 1.1634 - val_accuracy: 0.5645\n"
     ]
    },
    {
     "data": {
      "text/plain": [
       "<keras.src.callbacks.History at 0x2e1bf27f050>"
      ]
     },
     "execution_count": 10,
     "metadata": {},
     "output_type": "execute_result"
    }
   ],
   "source": [
    "model.fit(X_train_sequences_matrix, \n",
    "          y_train,\n",
    "          batch_size=32,\n",
    "          epochs=25,\n",
    "          #validation_data=(X_test_sequences_matrix, y_test),\n",
    "          validation_split=0.2,\n",
    "        #   callbacks=[EarlyStopping(monitor='val_loss', min_delta=0.0001)]\n",
    "          )"
   ]
  },
  {
   "cell_type": "markdown",
   "metadata": {},
   "source": [
    "# Model Evaluation"
   ]
  },
  {
   "cell_type": "code",
   "execution_count": 11,
   "metadata": {},
   "outputs": [
    {
     "data": {
      "text/plain": [
       "0.34573002754820936"
      ]
     },
     "execution_count": 11,
     "metadata": {},
     "output_type": "execute_result"
    }
   ],
   "source": [
    "baseline_test_acc = np.mean(np.dot(y_test, np.arange(3)) == 2)\n",
    "baseline_test_acc"
   ]
  },
  {
   "cell_type": "code",
   "execution_count": 12,
   "metadata": {},
   "outputs": [
    {
     "name": "stdout",
     "output_type": "stream",
     "text": [
      "23/23 [==============================] - 3s 104ms/step - loss: 1.1770 - accuracy: 0.5510\n",
      "Test set\n",
      "  Loss: 1.177\n",
      "  Accuracy: 0.551\n"
     ]
    }
   ],
   "source": [
    "accr = model.evaluate(X_test_sequences_matrix, y_test)\n",
    "print('Test set\\n  Loss: {:0.3f}\\n  Accuracy: {:0.3f}'.format(accr[0],accr[1]))"
   ]
  },
  {
   "cell_type": "code",
   "execution_count": 13,
   "metadata": {},
   "outputs": [
    {
     "data": {
      "text/plain": [
       "array([2, 1, 1, 0, 1, 2, 2, 1, 2, 2, 1, 2, 1, 0, 0, 2, 2, 1, 2, 2, 0, 1,\n",
       "       2, 2, 0, 0, 2, 0, 1, 0, 2, 0, 1, 2, 0, 2, 2, 0, 2, 1, 1, 0, 0, 1,\n",
       "       1, 1, 1, 1, 0, 2, 0, 1, 2, 1, 2, 2, 0, 1, 2, 2, 1, 0, 0, 2, 1, 1,\n",
       "       1, 0, 0, 0, 1, 1, 1, 2, 1, 2, 2, 1, 1, 1, 1, 2, 1, 0, 0, 0, 2, 0,\n",
       "       0, 1, 0, 0, 1, 1, 2, 1, 1, 2, 0, 2, 1, 1, 2, 2, 2, 1, 0, 0, 0, 0,\n",
       "       1, 2, 2, 2, 2, 2, 1, 2, 0, 2, 2, 1, 1, 1, 0, 0, 2, 1, 0, 1, 0, 1,\n",
       "       2, 0, 0, 2, 1, 0, 1, 1, 1, 2, 1, 1, 2, 0, 2, 2, 2, 2, 2, 1, 0, 0,\n",
       "       2, 0, 0, 0, 2, 0, 1, 1, 2, 1, 1, 2, 2, 2, 0, 1, 1, 0, 1, 0, 1, 2,\n",
       "       1, 1, 1, 1, 0, 2, 1, 2, 2, 1, 0, 2, 1, 0, 2, 2, 2, 2, 2, 1, 0, 0,\n",
       "       2, 2, 1, 1, 0, 0, 0, 0, 1, 1, 0, 0, 1, 2, 0, 1, 0, 1, 2, 1, 0, 0,\n",
       "       1, 2, 0, 0, 2, 1, 2, 0, 2, 1, 2, 1, 2, 1, 2, 0, 1, 0, 0, 1, 2, 2,\n",
       "       1, 1, 2, 1, 1, 1, 1, 2, 2, 0, 0, 0, 1, 0, 0, 0, 1, 0, 2, 2, 1, 1,\n",
       "       1, 2, 2, 1, 1, 2, 2, 2, 2, 2, 2, 0, 2, 0, 2, 1, 0, 2, 1, 2, 1, 0,\n",
       "       2, 1, 0, 0, 2, 0, 0, 2, 2, 2, 1, 1, 2, 1, 0, 2, 0, 1, 2, 2, 1, 1,\n",
       "       0, 1, 2, 2, 0, 2, 1, 0, 1, 2, 1, 0, 0, 2, 1, 2, 2, 2, 2, 2, 1, 1,\n",
       "       1, 2, 2, 0, 1, 1, 0, 2, 2, 1, 0, 0, 1, 1, 1, 0, 0, 0, 2, 0, 2, 1,\n",
       "       1, 1, 0, 0, 0, 2, 2, 0, 0, 1, 2, 0, 2, 1, 2, 1, 2, 1, 0, 1, 1, 1,\n",
       "       1, 1, 2, 0, 2, 0, 1, 0, 1, 2, 0, 1, 2, 1, 1, 0, 0, 1, 2, 0, 1, 0,\n",
       "       2, 2, 2, 0, 0, 1, 0, 1, 1, 2, 2, 2, 0, 2, 0, 0, 0, 0, 2, 2, 2, 1,\n",
       "       0, 2, 1, 1, 2, 1, 2, 1, 2, 2, 1, 0, 2, 2, 1, 1, 1, 1, 1, 0, 0, 1,\n",
       "       2, 0, 1, 1, 2, 1, 0, 1, 0, 2, 1, 1, 2, 2, 1, 0, 1, 1, 2, 1, 1, 2,\n",
       "       0, 1, 2, 0, 2, 0, 2, 2, 2, 0, 0, 2, 0, 1, 0, 1, 1, 2, 2, 2, 1, 2,\n",
       "       0, 0, 1, 0, 1, 0, 0, 1, 0, 1, 0, 2, 0, 0, 2, 2, 1, 1, 1, 1, 2, 2,\n",
       "       2, 2, 1, 2, 1, 0, 1, 1, 0, 2, 1, 1, 1, 0, 0, 2, 0, 2, 0, 0, 2, 1,\n",
       "       1, 0, 2, 2, 0, 0, 0, 1, 1, 2, 1, 0, 0, 1, 0, 2, 2, 0, 0, 1, 0, 2,\n",
       "       2, 1, 0, 0, 1, 2, 2, 2, 1, 1, 2, 0, 0, 1, 1, 2, 1, 1, 0, 2, 2, 0,\n",
       "       0, 1, 2, 1, 1, 1, 2, 1, 2, 0, 2, 1, 2, 0, 1, 0, 1, 2, 2, 0, 0, 0,\n",
       "       0, 1, 1, 2, 1, 2, 0, 2, 2, 2, 2, 2, 0, 1, 1, 1, 1, 0, 0, 2, 2, 1,\n",
       "       2, 0, 0, 2, 0, 0, 1, 0, 2, 1, 2, 2, 2, 2, 0, 0, 2, 0, 2, 1, 2, 2,\n",
       "       2, 1, 1, 0, 1, 1, 0, 0, 0, 0, 2, 2, 2, 2, 1, 1, 0, 1, 2, 1, 1, 0,\n",
       "       1, 1, 1, 2, 2, 1, 1, 0, 1, 0, 0, 1, 1, 0, 1, 0, 1, 1, 2, 2, 2, 0,\n",
       "       1, 0, 2, 2, 0, 2, 0, 0, 1, 0, 2, 1, 2, 1, 1, 1, 2, 2, 2, 2, 0, 1,\n",
       "       2, 2, 0, 2, 0, 1, 2, 1, 1, 0, 0, 2, 2, 1, 0, 1, 0, 0, 2, 0, 2, 1],\n",
       "      dtype=int64)"
      ]
     },
     "execution_count": 13,
     "metadata": {},
     "output_type": "execute_result"
    }
   ],
   "source": [
    "# mengembalikan to_categorical y_test menjadi list\n",
    "y_test = np.argmax(y_test,axis=1)\n",
    "y_test"
   ]
  },
  {
   "cell_type": "code",
   "execution_count": 14,
   "metadata": {},
   "outputs": [
    {
     "name": "stdout",
     "output_type": "stream",
     "text": [
      "23/23 [==============================] - 3s 93ms/step\n"
     ]
    },
    {
     "data": {
      "text/plain": [
       "array([1, 0, 0, 2, 2, 0, 1, 2, 2, 2, 2, 2, 1, 2, 0, 2, 2, 1, 0, 2, 1, 1,\n",
       "       2, 2, 0, 0, 2, 0, 0, 0, 2, 0, 1, 2, 0, 2, 0, 1, 2, 1, 1, 0, 0, 1,\n",
       "       1, 1, 1, 0, 0, 2, 1, 1, 2, 1, 1, 2, 0, 1, 2, 2, 2, 0, 1, 1, 1, 0,\n",
       "       1, 0, 2, 0, 1, 1, 0, 1, 1, 1, 1, 2, 1, 2, 1, 2, 1, 0, 0, 2, 2, 0,\n",
       "       1, 1, 2, 1, 0, 1, 0, 1, 2, 0, 0, 2, 0, 1, 2, 1, 1, 1, 0, 1, 0, 1,\n",
       "       1, 2, 2, 2, 2, 2, 0, 2, 2, 2, 2, 1, 1, 0, 0, 0, 2, 1, 0, 0, 0, 1,\n",
       "       1, 0, 1, 0, 1, 1, 1, 1, 1, 0, 1, 1, 2, 0, 2, 2, 2, 2, 2, 2, 1, 0,\n",
       "       2, 0, 0, 2, 2, 0, 1, 2, 2, 0, 2, 2, 0, 1, 1, 0, 2, 0, 1, 2, 0, 2,\n",
       "       1, 2, 1, 1, 2, 0, 0, 2, 2, 2, 0, 2, 2, 1, 0, 1, 2, 2, 0, 2, 1, 0,\n",
       "       2, 2, 2, 1, 1, 2, 0, 0, 1, 2, 0, 1, 1, 0, 2, 2, 1, 1, 2, 1, 1, 1,\n",
       "       1, 2, 0, 1, 2, 1, 2, 0, 2, 1, 0, 1, 0, 0, 0, 1, 0, 2, 1, 1, 2, 2,\n",
       "       1, 1, 0, 1, 0, 0, 1, 1, 1, 2, 0, 0, 1, 1, 0, 1, 1, 2, 0, 2, 1, 2,\n",
       "       1, 2, 2, 2, 2, 2, 1, 2, 2, 2, 2, 0, 2, 0, 2, 1, 1, 2, 0, 1, 2, 2,\n",
       "       2, 2, 0, 0, 1, 1, 0, 0, 1, 2, 2, 0, 2, 1, 2, 0, 0, 1, 2, 2, 1, 0,\n",
       "       0, 2, 2, 2, 0, 2, 1, 1, 1, 2, 0, 1, 2, 1, 1, 1, 2, 2, 1, 2, 1, 1,\n",
       "       1, 0, 2, 2, 2, 2, 1, 1, 1, 1, 0, 0, 1, 1, 1, 0, 1, 1, 2, 1, 2, 1,\n",
       "       0, 0, 1, 1, 1, 2, 2, 2, 1, 1, 0, 1, 2, 1, 1, 1, 2, 0, 0, 1, 0, 2,\n",
       "       1, 2, 0, 0, 0, 1, 1, 2, 1, 0, 0, 0, 2, 1, 0, 2, 1, 2, 2, 0, 2, 1,\n",
       "       1, 2, 1, 2, 0, 1, 1, 1, 1, 0, 2, 1, 0, 0, 2, 0, 0, 1, 0, 1, 0, 1,\n",
       "       2, 2, 1, 2, 2, 1, 0, 1, 0, 2, 0, 1, 1, 2, 1, 1, 0, 1, 0, 0, 2, 1,\n",
       "       2, 0, 0, 0, 1, 2, 1, 1, 1, 2, 0, 1, 2, 0, 0, 1, 2, 1, 1, 0, 1, 0,\n",
       "       0, 1, 2, 0, 2, 1, 2, 2, 1, 0, 2, 2, 0, 1, 0, 2, 1, 2, 2, 2, 1, 2,\n",
       "       0, 0, 2, 1, 1, 0, 0, 2, 1, 2, 2, 2, 1, 0, 2, 0, 1, 1, 1, 0, 2, 2,\n",
       "       2, 2, 1, 1, 0, 0, 1, 2, 1, 2, 0, 1, 1, 1, 1, 1, 1, 2, 1, 1, 0, 1,\n",
       "       1, 0, 2, 2, 1, 1, 2, 0, 1, 2, 1, 0, 2, 0, 2, 2, 1, 0, 1, 0, 0, 1,\n",
       "       1, 1, 0, 1, 1, 2, 1, 0, 0, 0, 0, 0, 0, 2, 0, 2, 1, 1, 1, 2, 1, 1,\n",
       "       0, 2, 0, 0, 0, 1, 1, 1, 2, 0, 0, 0, 2, 0, 1, 1, 1, 1, 2, 0, 0, 2,\n",
       "       0, 1, 0, 2, 1, 2, 1, 0, 1, 0, 2, 2, 2, 1, 2, 2, 2, 0, 0, 2, 2, 1,\n",
       "       1, 2, 0, 2, 0, 1, 0, 0, 2, 0, 0, 0, 0, 2, 0, 0, 2, 2, 2, 1, 0, 2,\n",
       "       2, 2, 1, 0, 0, 1, 1, 0, 0, 2, 2, 0, 2, 2, 0, 0, 2, 1, 2, 0, 0, 0,\n",
       "       0, 1, 1, 0, 2, 1, 1, 0, 0, 0, 0, 0, 0, 2, 1, 1, 2, 1, 0, 0, 1, 1,\n",
       "       0, 0, 0, 2, 0, 1, 0, 1, 2, 0, 0, 2, 2, 1, 0, 1, 0, 0, 1, 2, 0, 1,\n",
       "       2, 0, 1, 2, 1, 0, 2, 1, 1, 0, 0, 0, 1, 2, 2, 2, 0, 1, 2, 2, 2, 1],\n",
       "      dtype=int64)"
      ]
     },
     "execution_count": 14,
     "metadata": {},
     "output_type": "execute_result"
    }
   ],
   "source": [
    "# predict y_pred untuk Confusion Matrix\n",
    "y_pred = model.predict(X_test_sequences_matrix)\n",
    "y_pred_class = np.argmax(y_pred, axis=1)\n",
    "y_pred_class"
   ]
  },
  {
   "cell_type": "code",
   "execution_count": 15,
   "metadata": {},
   "outputs": [
    {
     "data": {
      "text/plain": [
       "array([[108,  72,  39],\n",
       "       [ 64, 142,  50],\n",
       "       [ 54,  47, 150]], dtype=int64)"
      ]
     },
     "execution_count": 15,
     "metadata": {},
     "output_type": "execute_result"
    }
   ],
   "source": [
    "# Assuming y_true and y_pred are your data\n",
    "cm = confusion_matrix(y_test, np.rint(y_pred_class))\n",
    "cm"
   ]
  },
  {
   "cell_type": "code",
   "execution_count": 16,
   "metadata": {},
   "outputs": [
    {
     "data": {
      "image/png": "[encoded data removed]",
      "text/plain": [
       "<Figure size 640x480 with 2 Axes>"
      ]
     },
     "metadata": {},
     "output_type": "display_data"
    }
   ],
   "source": [
    "fig, ax = plt.subplots()\n",
    "sns.heatmap(cm, annot=True, fmt='g', ax=ax)\n",
    "\n",
    "# labels, title and ticks\n",
    "ax.set_xlabel('Predicted labels')\n",
    "ax.set_ylabel('True labels')\n",
    "ax.set_title('Confusion Matrix')\n",
    "ax.xaxis.set_ticklabels(['negatif','netral', 'positif'])  # replace with your classes\n",
    "ax.yaxis.set_ticklabels(['negatif','netral', 'positif'])  # replace with your classes\n",
    "\n",
    "plt.show()"
   ]
  },
  {
   "cell_type": "code",
   "execution_count": 17,
   "metadata": {},
   "outputs": [
    {
     "name": "stdout",
     "output_type": "stream",
     "text": [
      "              precision    recall  f1-score   support\n",
      "\n",
      "           0       0.48      0.49      0.49       219\n",
      "           1       0.54      0.55      0.55       256\n",
      "           2       0.63      0.60      0.61       251\n",
      "\n",
      "    accuracy                           0.55       726\n",
      "   macro avg       0.55      0.55      0.55       726\n",
      "weighted avg       0.55      0.55      0.55       726\n",
      "\n"
     ]
    }
   ],
   "source": [
    "report = classification_report(y_test, np.rint(y_pred_class))\n",
    "print(report)"
   ]
  },
  {
   "cell_type": "code",
   "execution_count": null,
   "metadata": {},
   "outputs": [],
   "source": []
  }
 ],
 "metadata": {
  "kernelspec": {
   "display_name": "Python 3",
   "language": "python",
   "name": "python3"
  },
  "language_info": {
   "codemirror_mode": {
    "name": "ipython",
    "version": 3
   },
   "file_extension": ".py",
   "mimetype": "text/x-python",
   "name": "python",
   "nbconvert_exporter": "python",
   "pygments_lexer": "ipython3",
   "version": "3.11.5"
  }
 },
 "nbformat": 4,
 "nbformat_minor": 2
}

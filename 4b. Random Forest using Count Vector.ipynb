{
 "cells": [
  {
   "cell_type": "markdown",
   "metadata": {},
   "source": [
    "# Setting Environment"
   ]
  },
  {
   "cell_type": "code",
   "execution_count": 1,
   "metadata": {},
   "outputs": [],
   "source": [
    "import numpy as np\n",
    "import pandas as pd\n",
    "import matplotlib.pyplot as plt\n",
    "import seaborn as sns\n",
    "%matplotlib inline\n",
    "\n",
    "import ast\n",
    "from sklearn.model_selection import train_test_split\n",
    "from sklearn.ensemble import RandomForestClassifier\n",
    "from sklearn.metrics import confusion_matrix, classification_report, accuracy_score\n",
    "from keras.preprocessing import sequence\n",
    "from keras.preprocessing.sequence import pad_sequences\n",
    "from sklearn.model_selection import GridSearchCV"
   ]
  },
  {
   "cell_type": "code",
   "execution_count": 2,
   "metadata": {},
   "outputs": [
    {
     "data": {
      "text/html": [
       "<div>\n",
       "<style scoped>\n",
       "    .dataframe tbody tr th:only-of-type {\n",
       "        vertical-align: middle;\n",
       "    }\n",
       "\n",
       "    .dataframe tbody tr th {\n",
       "        vertical-align: top;\n",
       "    }\n",
       "\n",
       "    .dataframe thead th {\n",
       "        text-align: right;\n",
       "    }\n",
       "</style>\n",
       "<table border=\"1\" class=\"dataframe\">\n",
       "  <thead>\n",
       "    <tr style=\"text-align: right;\">\n",
       "      <th></th>\n",
       "      <th>sentimen</th>\n",
       "      <th>0</th>\n",
       "      <th>1</th>\n",
       "      <th>2</th>\n",
       "      <th>3</th>\n",
       "      <th>4</th>\n",
       "      <th>5</th>\n",
       "      <th>6</th>\n",
       "      <th>7</th>\n",
       "      <th>8</th>\n",
       "      <th>...</th>\n",
       "      <th>4478</th>\n",
       "      <th>4479</th>\n",
       "      <th>4480</th>\n",
       "      <th>4481</th>\n",
       "      <th>4482</th>\n",
       "      <th>4483</th>\n",
       "      <th>4484</th>\n",
       "      <th>4485</th>\n",
       "      <th>4486</th>\n",
       "      <th>4487</th>\n",
       "    </tr>\n",
       "  </thead>\n",
       "  <tbody>\n",
       "    <tr>\n",
       "      <th>0</th>\n",
       "      <td>2</td>\n",
       "      <td>0</td>\n",
       "      <td>0</td>\n",
       "      <td>0</td>\n",
       "      <td>0</td>\n",
       "      <td>0</td>\n",
       "      <td>0</td>\n",
       "      <td>0</td>\n",
       "      <td>0</td>\n",
       "      <td>0</td>\n",
       "      <td>...</td>\n",
       "      <td>0</td>\n",
       "      <td>0</td>\n",
       "      <td>0</td>\n",
       "      <td>0</td>\n",
       "      <td>0</td>\n",
       "      <td>0</td>\n",
       "      <td>0</td>\n",
       "      <td>0</td>\n",
       "      <td>0</td>\n",
       "      <td>0</td>\n",
       "    </tr>\n",
       "    <tr>\n",
       "      <th>1</th>\n",
       "      <td>0</td>\n",
       "      <td>0</td>\n",
       "      <td>0</td>\n",
       "      <td>0</td>\n",
       "      <td>0</td>\n",
       "      <td>0</td>\n",
       "      <td>0</td>\n",
       "      <td>0</td>\n",
       "      <td>0</td>\n",
       "      <td>0</td>\n",
       "      <td>...</td>\n",
       "      <td>0</td>\n",
       "      <td>0</td>\n",
       "      <td>0</td>\n",
       "      <td>0</td>\n",
       "      <td>0</td>\n",
       "      <td>0</td>\n",
       "      <td>0</td>\n",
       "      <td>0</td>\n",
       "      <td>0</td>\n",
       "      <td>0</td>\n",
       "    </tr>\n",
       "    <tr>\n",
       "      <th>2</th>\n",
       "      <td>0</td>\n",
       "      <td>0</td>\n",
       "      <td>0</td>\n",
       "      <td>0</td>\n",
       "      <td>0</td>\n",
       "      <td>0</td>\n",
       "      <td>0</td>\n",
       "      <td>0</td>\n",
       "      <td>0</td>\n",
       "      <td>0</td>\n",
       "      <td>...</td>\n",
       "      <td>0</td>\n",
       "      <td>0</td>\n",
       "      <td>0</td>\n",
       "      <td>0</td>\n",
       "      <td>0</td>\n",
       "      <td>0</td>\n",
       "      <td>0</td>\n",
       "      <td>0</td>\n",
       "      <td>0</td>\n",
       "      <td>0</td>\n",
       "    </tr>\n",
       "    <tr>\n",
       "      <th>3</th>\n",
       "      <td>1</td>\n",
       "      <td>0</td>\n",
       "      <td>0</td>\n",
       "      <td>0</td>\n",
       "      <td>0</td>\n",
       "      <td>0</td>\n",
       "      <td>0</td>\n",
       "      <td>0</td>\n",
       "      <td>0</td>\n",
       "      <td>0</td>\n",
       "      <td>...</td>\n",
       "      <td>0</td>\n",
       "      <td>0</td>\n",
       "      <td>0</td>\n",
       "      <td>0</td>\n",
       "      <td>0</td>\n",
       "      <td>0</td>\n",
       "      <td>0</td>\n",
       "      <td>0</td>\n",
       "      <td>0</td>\n",
       "      <td>0</td>\n",
       "    </tr>\n",
       "    <tr>\n",
       "      <th>4</th>\n",
       "      <td>1</td>\n",
       "      <td>0</td>\n",
       "      <td>0</td>\n",
       "      <td>0</td>\n",
       "      <td>0</td>\n",
       "      <td>0</td>\n",
       "      <td>0</td>\n",
       "      <td>0</td>\n",
       "      <td>0</td>\n",
       "      <td>0</td>\n",
       "      <td>...</td>\n",
       "      <td>0</td>\n",
       "      <td>0</td>\n",
       "      <td>0</td>\n",
       "      <td>0</td>\n",
       "      <td>0</td>\n",
       "      <td>0</td>\n",
       "      <td>0</td>\n",
       "      <td>0</td>\n",
       "      <td>0</td>\n",
       "      <td>0</td>\n",
       "    </tr>\n",
       "  </tbody>\n",
       "</table>\n",
       "<p>5 rows × 4489 columns</p>\n",
       "</div>"
      ],
      "text/plain": [
       "   sentimen  0  1  2  3  4  5  6  7  8  ...  4478  4479  4480  4481  4482  \\\n",
       "0         2  0  0  0  0  0  0  0  0  0  ...     0     0     0     0     0   \n",
       "1         0  0  0  0  0  0  0  0  0  0  ...     0     0     0     0     0   \n",
       "2         0  0  0  0  0  0  0  0  0  0  ...     0     0     0     0     0   \n",
       "3         1  0  0  0  0  0  0  0  0  0  ...     0     0     0     0     0   \n",
       "4         1  0  0  0  0  0  0  0  0  0  ...     0     0     0     0     0   \n",
       "\n",
       "   4483  4484  4485  4486  4487  \n",
       "0     0     0     0     0     0  \n",
       "1     0     0     0     0     0  \n",
       "2     0     0     0     0     0  \n",
       "3     0     0     0     0     0  \n",
       "4     0     0     0     0     0  \n",
       "\n",
       "[5 rows x 4489 columns]"
      ]
     },
     "execution_count": 2,
     "metadata": {},
     "output_type": "execute_result"
    }
   ],
   "source": [
    "df_tweets = pd.read_csv('./cv_tweets.csv')\n",
    "df_tweets.head()"
   ]
  },
  {
   "cell_type": "markdown",
   "metadata": {},
   "source": [
    "# Fiture Selection"
   ]
  },
  {
   "cell_type": "code",
   "execution_count": 3,
   "metadata": {},
   "outputs": [],
   "source": [
    "X = df_tweets.iloc[:,1:]\n",
    "y = df_tweets.sentimen"
   ]
  },
  {
   "cell_type": "markdown",
   "metadata": {},
   "source": [
    "# Data Modeling"
   ]
  },
  {
   "cell_type": "code",
   "execution_count": 4,
   "metadata": {},
   "outputs": [],
   "source": [
    "X_train, X_test, y_train, y_test = train_test_split(X,y, test_size=0.2, random_state=10) "
   ]
  },
  {
   "cell_type": "code",
   "execution_count": 5,
   "metadata": {},
   "outputs": [
    {
     "data": {
      "text/plain": [
       "(      0  1  2  3  4  5  6  7  8  9  ...  4478  4479  4480  4481  4482  4483  \\\n",
       " 2331  0  0  0  0  0  0  0  0  0  0  ...     0     0     0     0     0     0   \n",
       " 2558  0  0  0  0  0  0  0  0  0  0  ...     0     0     0     0     0     0   \n",
       " 1234  0  0  0  0  0  0  0  0  0  0  ...     0     0     0     0     0     0   \n",
       " 1804  0  0  0  0  0  0  0  0  0  1  ...     0     0     0     0     0     0   \n",
       " 2165  0  0  0  0  0  0  0  0  0  0  ...     0     0     0     0     0     0   \n",
       " ...  .. .. .. .. .. .. .. .. .. ..  ...   ...   ...   ...   ...   ...   ...   \n",
       " 3441  0  0  0  0  0  0  0  0  0  0  ...     0     0     0     0     0     0   \n",
       " 1344  0  0  0  0  0  0  0  0  0  0  ...     0     0     0     0     0     0   \n",
       " 527   0  0  0  0  0  0  0  0  0  0  ...     0     0     0     0     0     0   \n",
       " 3197  0  0  0  0  0  0  0  0  0  0  ...     0     0     0     0     0     0   \n",
       " 1289  0  0  0  0  0  0  0  0  0  0  ...     0     0     0     0     0     0   \n",
       " \n",
       "       4484  4485  4486  4487  \n",
       " 2331     0     0     0     0  \n",
       " 2558     0     0     0     0  \n",
       " 1234     0     0     0     0  \n",
       " 1804     0     0     0     0  \n",
       " 2165     0     0     0     0  \n",
       " ...    ...   ...   ...   ...  \n",
       " 3441     0     0     0     0  \n",
       " 1344     0     0     0     0  \n",
       " 527      0     0     0     0  \n",
       " 3197     0     0     0     0  \n",
       " 1289     0     0     0     0  \n",
       " \n",
       " [2901 rows x 4488 columns],\n",
       "       0  1  2  3  4  5  6  7  8  9  ...  4478  4479  4480  4481  4482  4483  \\\n",
       " 101   0  0  0  0  0  0  0  0  0  0  ...     0     0     0     0     0     0   \n",
       " 1080  0  0  0  0  0  0  0  0  0  0  ...     0     0     0     0     0     0   \n",
       " 1731  0  0  0  0  0  0  0  0  0  0  ...     0     0     0     0     0     0   \n",
       " 3011  0  0  0  0  0  0  0  0  0  0  ...     0     0     0     0     0     0   \n",
       " 2362  0  0  0  0  0  0  0  0  0  0  ...     0     0     0     0     0     0   \n",
       " ...  .. .. .. .. .. .. .. .. .. ..  ...   ...   ...   ...   ...   ...   ...   \n",
       " 565   0  0  0  0  0  0  0  0  0  0  ...     0     0     0     0     0     0   \n",
       " 3248  0  0  0  0  0  0  0  0  0  0  ...     0     0     0     0     0     0   \n",
       " 2740  0  0  0  0  0  0  0  0  0  0  ...     0     0     0     0     0     0   \n",
       " 1906  0  0  0  0  0  0  0  0  0  0  ...     0     0     0     0     0     0   \n",
       " 433   0  0  0  0  0  0  0  0  0  0  ...     0     0     0     0     0     0   \n",
       " \n",
       "       4484  4485  4486  4487  \n",
       " 101      0     0     0     0  \n",
       " 1080     0     0     0     0  \n",
       " 1731     0     0     0     0  \n",
       " 3011     0     0     0     0  \n",
       " 2362     0     0     0     0  \n",
       " ...    ...   ...   ...   ...  \n",
       " 565      0     0     0     0  \n",
       " 3248     0     0     0     0  \n",
       " 2740     0     0     0     0  \n",
       " 1906     0     0     0     0  \n",
       " 433      0     0     0     0  \n",
       " \n",
       " [726 rows x 4488 columns])"
      ]
     },
     "execution_count": 5,
     "metadata": {},
     "output_type": "execute_result"
    }
   ],
   "source": [
    "X_train, X_test"
   ]
  },
  {
   "cell_type": "code",
   "execution_count": 6,
   "metadata": {},
   "outputs": [],
   "source": [
    "\n",
    "scores = ['precision', 'recall']\n",
    "\n",
    "def run_tuning(model, hyperparameters, scores, X_train, y_train, X_test, y_test):\n",
    "    for score in scores:\n",
    "        print(\"Tuning hyperparameter for %s\" % score)\n",
    "        print()\n",
    "\n",
    "        clf = GridSearchCV(model, hyperparameters, scoring='%s_macro' % score, cv=None, n_jobs=-1)\n",
    "        clf.fit(X_train, y_train)\n",
    "\n",
    "        print('Best parameter set found: ')\n",
    "        print()\n",
    "        print(clf.best_params_)\n",
    "        print()\n",
    "\n",
    "        print('Grid scores in process: ')\n",
    "        print()\n",
    "        means = clf.cv_results_['mean_test_score']\n",
    "\n",
    "        for mean, params in zip(means, clf.cv_results_['params']):\n",
    "            print('%0.3f for %r' % (mean, params))\n",
    "\n",
    "        print()\n",
    "        print()\n",
    "        print('Detail Classification Report')\n",
    "        y_pred = clf.predict(X_test)\n",
    "        print(classification_report(y_test, y_pred))\n",
    "        print()\n",
    "     "
   ]
  },
  {
   "cell_type": "code",
   "execution_count": 7,
   "metadata": {},
   "outputs": [],
   "source": [
    "\n",
    "hyperparameters = {\n",
    "    'bootstrap': [True],\n",
    "    'max_depth': [10, 100],\n",
    "    'max_features': [2, 3, 'auto'],\n",
    "    'n_estimators': [10, 100, 200]}"
   ]
  },
  {
   "cell_type": "code",
   "execution_count": 8,
   "metadata": {},
   "outputs": [
    {
     "name": "stdout",
     "output_type": "stream",
     "text": [
      "(2901, 4488)\n",
      "(726, 4488)\n",
      "(2901,)\n",
      "(726,)\n"
     ]
    }
   ],
   "source": [
    "print(X_train.shape)\n",
    "print(X_test.shape)\n",
    "print(y_train.shape)\n",
    "print(y_test.shape)"
   ]
  },
  {
   "cell_type": "code",
   "execution_count": 9,
   "metadata": {},
   "outputs": [
    {
     "name": "stdout",
     "output_type": "stream",
     "text": [
      "Tuning hyperparameter for precision\n",
      "\n"
     ]
    },
    {
     "name": "stdout",
     "output_type": "stream",
     "text": [
      "Best parameter set found: \n",
      "\n",
      "{'bootstrap': True, 'max_depth': 100, 'max_features': 2, 'n_estimators': 200}\n",
      "\n",
      "Grid scores in process: \n",
      "\n",
      "0.528 for {'bootstrap': True, 'max_depth': 10, 'max_features': 2, 'n_estimators': 10}\n",
      "0.657 for {'bootstrap': True, 'max_depth': 10, 'max_features': 2, 'n_estimators': 100}\n",
      "0.710 for {'bootstrap': True, 'max_depth': 10, 'max_features': 2, 'n_estimators': 200}\n",
      "0.535 for {'bootstrap': True, 'max_depth': 10, 'max_features': 3, 'n_estimators': 10}\n",
      "0.659 for {'bootstrap': True, 'max_depth': 10, 'max_features': 3, 'n_estimators': 100}\n",
      "0.704 for {'bootstrap': True, 'max_depth': 10, 'max_features': 3, 'n_estimators': 200}\n",
      "0.565 for {'bootstrap': True, 'max_depth': 10, 'max_features': 'auto', 'n_estimators': 10}\n",
      "0.649 for {'bootstrap': True, 'max_depth': 10, 'max_features': 'auto', 'n_estimators': 100}\n",
      "0.653 for {'bootstrap': True, 'max_depth': 10, 'max_features': 'auto', 'n_estimators': 200}\n",
      "0.682 for {'bootstrap': True, 'max_depth': 100, 'max_features': 2, 'n_estimators': 10}\n",
      "0.803 for {'bootstrap': True, 'max_depth': 100, 'max_features': 2, 'n_estimators': 100}\n",
      "0.820 for {'bootstrap': True, 'max_depth': 100, 'max_features': 2, 'n_estimators': 200}\n",
      "0.679 for {'bootstrap': True, 'max_depth': 100, 'max_features': 3, 'n_estimators': 10}\n",
      "0.810 for {'bootstrap': True, 'max_depth': 100, 'max_features': 3, 'n_estimators': 100}\n",
      "0.820 for {'bootstrap': True, 'max_depth': 100, 'max_features': 3, 'n_estimators': 200}\n",
      "0.770 for {'bootstrap': True, 'max_depth': 100, 'max_features': 'auto', 'n_estimators': 10}\n",
      "0.806 for {'bootstrap': True, 'max_depth': 100, 'max_features': 'auto', 'n_estimators': 100}\n",
      "0.808 for {'bootstrap': True, 'max_depth': 100, 'max_features': 'auto', 'n_estimators': 200}\n",
      "\n",
      "\n",
      "Detail Classification Report\n",
      "              precision    recall  f1-score   support\n",
      "\n",
      "           0       0.93      0.87      0.90       232\n",
      "           1       0.75      0.93      0.83       241\n",
      "           2       0.95      0.80      0.87       253\n",
      "\n",
      "    accuracy                           0.86       726\n",
      "   macro avg       0.88      0.86      0.86       726\n",
      "weighted avg       0.88      0.86      0.86       726\n",
      "\n",
      "\n",
      "Tuning hyperparameter for recall\n",
      "\n",
      "Best parameter set found: \n",
      "\n",
      "{'bootstrap': True, 'max_depth': 100, 'max_features': 3, 'n_estimators': 200}\n",
      "\n",
      "Grid scores in process: \n",
      "\n",
      "0.396 for {'bootstrap': True, 'max_depth': 10, 'max_features': 2, 'n_estimators': 10}\n",
      "0.605 for {'bootstrap': True, 'max_depth': 10, 'max_features': 2, 'n_estimators': 100}\n",
      "0.639 for {'bootstrap': True, 'max_depth': 10, 'max_features': 2, 'n_estimators': 200}\n",
      "0.441 for {'bootstrap': True, 'max_depth': 10, 'max_features': 3, 'n_estimators': 10}\n",
      "0.625 for {'bootstrap': True, 'max_depth': 10, 'max_features': 3, 'n_estimators': 100}\n",
      "0.659 for {'bootstrap': True, 'max_depth': 10, 'max_features': 3, 'n_estimators': 200}\n",
      "0.554 for {'bootstrap': True, 'max_depth': 10, 'max_features': 'auto', 'n_estimators': 10}\n",
      "0.640 for {'bootstrap': True, 'max_depth': 10, 'max_features': 'auto', 'n_estimators': 100}\n",
      "0.646 for {'bootstrap': True, 'max_depth': 10, 'max_features': 'auto', 'n_estimators': 200}\n",
      "0.652 for {'bootstrap': True, 'max_depth': 100, 'max_features': 2, 'n_estimators': 10}\n",
      "0.781 for {'bootstrap': True, 'max_depth': 100, 'max_features': 2, 'n_estimators': 100}\n",
      "0.800 for {'bootstrap': True, 'max_depth': 100, 'max_features': 2, 'n_estimators': 200}\n",
      "0.675 for {'bootstrap': True, 'max_depth': 100, 'max_features': 3, 'n_estimators': 10}\n",
      "0.784 for {'bootstrap': True, 'max_depth': 100, 'max_features': 3, 'n_estimators': 100}\n",
      "0.806 for {'bootstrap': True, 'max_depth': 100, 'max_features': 3, 'n_estimators': 200}\n",
      "0.757 for {'bootstrap': True, 'max_depth': 100, 'max_features': 'auto', 'n_estimators': 10}\n",
      "0.803 for {'bootstrap': True, 'max_depth': 100, 'max_features': 'auto', 'n_estimators': 100}\n",
      "0.799 for {'bootstrap': True, 'max_depth': 100, 'max_features': 'auto', 'n_estimators': 200}\n",
      "\n",
      "\n",
      "Detail Classification Report\n",
      "              precision    recall  f1-score   support\n",
      "\n",
      "           0       0.93      0.84      0.88       232\n",
      "           1       0.75      0.92      0.83       241\n",
      "           2       0.95      0.82      0.88       253\n",
      "\n",
      "    accuracy                           0.86       726\n",
      "   macro avg       0.88      0.86      0.86       726\n",
      "weighted avg       0.88      0.86      0.86       726\n",
      "\n",
      "\n"
     ]
    }
   ],
   "source": [
    "rfc = RandomForestClassifier(n_jobs=-1)\n",
    "run_tuning(rfc, hyperparameters, scores, X_train, y_train, X_test, y_test)"
   ]
  },
  {
   "cell_type": "code",
   "execution_count": 10,
   "metadata": {},
   "outputs": [
    {
     "name": "stderr",
     "output_type": "stream",
     "text": [
      "c:\\Users\\ariza\\AppData\\Local\\Programs\\Python\\Python311\\Lib\\site-packages\\sklearn\\ensemble\\_forest.py:424: FutureWarning: `max_features='auto'` has been deprecated in 1.1 and will be removed in 1.3. To keep the past behaviour, explicitly set `max_features='sqrt'` or remove this parameter as it is also the default value for RandomForestClassifiers and ExtraTreesClassifiers.\n",
      "  warn(\n"
     ]
    },
    {
     "data": {
      "text/html": [
       "<style>#sk-container-id-1 {color: black;background-color: white;}#sk-container-id-1 pre{padding: 0;}#sk-container-id-1 div.sk-toggleable {background-color: white;}#sk-container-id-1 label.sk-toggleable__label {cursor: pointer;display: block;width: 100%;margin-bottom: 0;padding: 0.3em;box-sizing: border-box;text-align: center;}#sk-container-id-1 label.sk-toggleable__label-arrow:before {content: \"▸\";float: left;margin-right: 0.25em;color: #696969;}#sk-container-id-1 label.sk-toggleable__label-arrow:hover:before {color: black;}#sk-container-id-1 div.sk-estimator:hover label.sk-toggleable__label-arrow:before {color: black;}#sk-container-id-1 div.sk-toggleable__content {max-height: 0;max-width: 0;overflow: hidden;text-align: left;background-color: #f0f8ff;}#sk-container-id-1 div.sk-toggleable__content pre {margin: 0.2em;color: black;border-radius: 0.25em;background-color: #f0f8ff;}#sk-container-id-1 input.sk-toggleable__control:checked~div.sk-toggleable__content {max-height: 200px;max-width: 100%;overflow: auto;}#sk-container-id-1 input.sk-toggleable__control:checked~label.sk-toggleable__label-arrow:before {content: \"▾\";}#sk-container-id-1 div.sk-estimator input.sk-toggleable__control:checked~label.sk-toggleable__label {background-color: #d4ebff;}#sk-container-id-1 div.sk-label input.sk-toggleable__control:checked~label.sk-toggleable__label {background-color: #d4ebff;}#sk-container-id-1 input.sk-hidden--visually {border: 0;clip: rect(1px 1px 1px 1px);clip: rect(1px, 1px, 1px, 1px);height: 1px;margin: -1px;overflow: hidden;padding: 0;position: absolute;width: 1px;}#sk-container-id-1 div.sk-estimator {font-family: monospace;background-color: #f0f8ff;border: 1px dotted black;border-radius: 0.25em;box-sizing: border-box;margin-bottom: 0.5em;}#sk-container-id-1 div.sk-estimator:hover {background-color: #d4ebff;}#sk-container-id-1 div.sk-parallel-item::after {content: \"\";width: 100%;border-bottom: 1px solid gray;flex-grow: 1;}#sk-container-id-1 div.sk-label:hover label.sk-toggleable__label {background-color: #d4ebff;}#sk-container-id-1 div.sk-serial::before {content: \"\";position: absolute;border-left: 1px solid gray;box-sizing: border-box;top: 0;bottom: 0;left: 50%;z-index: 0;}#sk-container-id-1 div.sk-serial {display: flex;flex-direction: column;align-items: center;background-color: white;padding-right: 0.2em;padding-left: 0.2em;position: relative;}#sk-container-id-1 div.sk-item {position: relative;z-index: 1;}#sk-container-id-1 div.sk-parallel {display: flex;align-items: stretch;justify-content: center;background-color: white;position: relative;}#sk-container-id-1 div.sk-item::before, #sk-container-id-1 div.sk-parallel-item::before {content: \"\";position: absolute;border-left: 1px solid gray;box-sizing: border-box;top: 0;bottom: 0;left: 50%;z-index: -1;}#sk-container-id-1 div.sk-parallel-item {display: flex;flex-direction: column;z-index: 1;position: relative;background-color: white;}#sk-container-id-1 div.sk-parallel-item:first-child::after {align-self: flex-end;width: 50%;}#sk-container-id-1 div.sk-parallel-item:last-child::after {align-self: flex-start;width: 50%;}#sk-container-id-1 div.sk-parallel-item:only-child::after {width: 0;}#sk-container-id-1 div.sk-dashed-wrapped {border: 1px dashed gray;margin: 0 0.4em 0.5em 0.4em;box-sizing: border-box;padding-bottom: 0.4em;background-color: white;}#sk-container-id-1 div.sk-label label {font-family: monospace;font-weight: bold;display: inline-block;line-height: 1.2em;}#sk-container-id-1 div.sk-label-container {text-align: center;}#sk-container-id-1 div.sk-container {/* jupyter's `normalize.less` sets `[hidden] { display: none; }` but bootstrap.min.css set `[hidden] { display: none !important; }` so we also need the `!important` here to be able to override the default hidden behavior on the sphinx rendered scikit-learn.org. See: https://github.com/scikit-learn/scikit-learn/issues/21755 */display: inline-block !important;position: relative;}#sk-container-id-1 div.sk-text-repr-fallback {display: none;}</style><div id=\"sk-container-id-1\" class=\"sk-top-container\"><div class=\"sk-text-repr-fallback\"><pre>RandomForestClassifier(max_depth=100, max_features=&#x27;auto&#x27;)</pre><b>In a Jupyter environment, please rerun this cell to show the HTML representation or trust the notebook. <br />On GitHub, the HTML representation is unable to render, please try loading this page with nbviewer.org.</b></div><div class=\"sk-container\" hidden><div class=\"sk-item\"><div class=\"sk-estimator sk-toggleable\"><input class=\"sk-toggleable__control sk-hidden--visually\" id=\"sk-estimator-id-1\" type=\"checkbox\" checked><label for=\"sk-estimator-id-1\" class=\"sk-toggleable__label sk-toggleable__label-arrow\">RandomForestClassifier</label><div class=\"sk-toggleable__content\"><pre>RandomForestClassifier(max_depth=100, max_features=&#x27;auto&#x27;)</pre></div></div></div></div></div>"
      ],
      "text/plain": [
       "RandomForestClassifier(max_depth=100, max_features='auto')"
      ]
     },
     "execution_count": 10,
     "metadata": {},
     "output_type": "execute_result"
    }
   ],
   "source": [
    "rf = RandomForestClassifier(max_depth=100, max_features='auto', bootstrap=True, n_estimators=100 )\n",
    "rf.fit(X_train, y_train)"
   ]
  },
  {
   "cell_type": "code",
   "execution_count": 11,
   "metadata": {},
   "outputs": [],
   "source": [
    "y_pred = rf.predict(X_test)"
   ]
  },
  {
   "cell_type": "code",
   "execution_count": 12,
   "metadata": {},
   "outputs": [
    {
     "data": {
      "text/plain": [
       "(726,\n",
       " 726,\n",
       " 2331    1\n",
       " 2558    2\n",
       " 1234    1\n",
       " 1804    2\n",
       " 2165    0\n",
       "        ..\n",
       " 3441    1\n",
       " 1344    2\n",
       " 527     1\n",
       " 3197    0\n",
       " 1289    1\n",
       " Name: sentimen, Length: 2901, dtype: int64)"
      ]
     },
     "execution_count": 12,
     "metadata": {},
     "output_type": "execute_result"
    }
   ],
   "source": [
    "len(y_pred), len(y_test), y_train"
   ]
  },
  {
   "cell_type": "markdown",
   "metadata": {},
   "source": [
    "# Evaluate"
   ]
  },
  {
   "cell_type": "markdown",
   "metadata": {},
   "source": [
    "## Confusion matrix"
   ]
  },
  {
   "cell_type": "code",
   "execution_count": 13,
   "metadata": {},
   "outputs": [
    {
     "data": {
      "text/html": [
       "<div>\n",
       "<style scoped>\n",
       "    .dataframe tbody tr th:only-of-type {\n",
       "        vertical-align: middle;\n",
       "    }\n",
       "\n",
       "    .dataframe tbody tr th {\n",
       "        vertical-align: top;\n",
       "    }\n",
       "\n",
       "    .dataframe thead th {\n",
       "        text-align: right;\n",
       "    }\n",
       "</style>\n",
       "<table border=\"1\" class=\"dataframe\">\n",
       "  <thead>\n",
       "    <tr style=\"text-align: right;\">\n",
       "      <th>Predicted</th>\n",
       "      <th>0</th>\n",
       "      <th>1</th>\n",
       "      <th>2</th>\n",
       "    </tr>\n",
       "    <tr>\n",
       "      <th>Actual</th>\n",
       "      <th></th>\n",
       "      <th></th>\n",
       "      <th></th>\n",
       "    </tr>\n",
       "  </thead>\n",
       "  <tbody>\n",
       "    <tr>\n",
       "      <th>0</th>\n",
       "      <td>203</td>\n",
       "      <td>26</td>\n",
       "      <td>3</td>\n",
       "    </tr>\n",
       "    <tr>\n",
       "      <th>1</th>\n",
       "      <td>13</td>\n",
       "      <td>216</td>\n",
       "      <td>12</td>\n",
       "    </tr>\n",
       "    <tr>\n",
       "      <th>2</th>\n",
       "      <td>11</td>\n",
       "      <td>27</td>\n",
       "      <td>215</td>\n",
       "    </tr>\n",
       "  </tbody>\n",
       "</table>\n",
       "</div>"
      ],
      "text/plain": [
       "Predicted    0    1    2\n",
       "Actual                  \n",
       "0          203   26    3\n",
       "1           13  216   12\n",
       "2           11   27  215"
      ]
     },
     "execution_count": 13,
     "metadata": {},
     "output_type": "execute_result"
    }
   ],
   "source": [
    "# buat confusion matrix antara Test dan Prediksi\n",
    "pd.crosstab(y_test, y_pred, rownames=['Actual'], colnames=['Predicted'])"
   ]
  },
  {
   "cell_type": "code",
   "execution_count": 14,
   "metadata": {},
   "outputs": [
    {
     "data": {
      "image/png": "[encoded data removed]",
      "text/plain": [
       "<Figure size 1000x700 with 2 Axes>"
      ]
     },
     "metadata": {},
     "output_type": "display_data"
    }
   ],
   "source": [
    "cm = confusion_matrix(y_test, y_pred)\n",
    "plt.figure(figsize=(10,7))\n",
    "sns.heatmap(cm, annot=True, fmt='d', cmap='coolwarm', xticklabels=['negatif','netral','positif'], yticklabels=['negatif','netral','positif'])\n",
    "plt.xlabel('Predicted')\n",
    "plt.ylabel('Actual')\n",
    "plt.show()"
   ]
  },
  {
   "cell_type": "markdown",
   "metadata": {},
   "source": [
    "## Accuracy, Recall, Precision, F1 Score"
   ]
  },
  {
   "cell_type": "code",
   "execution_count": 15,
   "metadata": {},
   "outputs": [
    {
     "name": "stdout",
     "output_type": "stream",
     "text": [
      "              precision    recall  f1-score   support\n",
      "\n",
      "           0       0.89      0.88      0.88       232\n",
      "           1       0.80      0.90      0.85       241\n",
      "           2       0.93      0.85      0.89       253\n",
      "\n",
      "    accuracy                           0.87       726\n",
      "   macro avg       0.88      0.87      0.87       726\n",
      "weighted avg       0.88      0.87      0.87       726\n",
      "\n",
      "Accuracy: 0.8732782369146006\n"
     ]
    }
   ],
   "source": [
    "report = classification_report(y_test, y_pred)\n",
    "print(report)\n",
    "\n",
    "# Hitung dan cetak accuracy\n",
    "accuracy = accuracy_score(y_test, y_pred)\n",
    "print(f'Accuracy: {accuracy}')"
   ]
  }
 ],
 "metadata": {
  "kernelspec": {
   "display_name": "Python 3",
   "language": "python",
   "name": "python3"
  },
  "language_info": {
   "codemirror_mode": {
    "name": "ipython",
    "version": 3
   },
   "file_extension": ".py",
   "mimetype": "text/x-python",
   "name": "python",
   "nbconvert_exporter": "python",
   "pygments_lexer": "ipython3",
   "version": "3.11.5"
  }
 },
 "nbformat": 4,
 "nbformat_minor": 2
}

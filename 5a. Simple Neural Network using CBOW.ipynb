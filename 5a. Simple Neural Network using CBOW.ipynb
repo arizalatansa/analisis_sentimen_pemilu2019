{
 "cells": [
  {
   "cell_type": "markdown",
   "metadata": {},
   "source": [
    "# Setting Environment"
   ]
  },
  {
   "cell_type": "code",
   "execution_count": 2,
   "metadata": {},
   "outputs": [],
   "source": [
    "import numpy as np\n",
    "import pandas as pd\n",
    "import matplotlib.pyplot as plt\n",
    "import seaborn as sns\n",
    "%matplotlib inline\n",
    "\n",
    "import ast\n",
    "from sklearn.model_selection import train_test_split\n",
    "from sklearn.metrics import confusion_matrix, classification_report, accuracy_score\n",
    "from keras.preprocessing.sequence import pad_sequences\n",
    "from keras.models import Sequential\n",
    "from keras.layers import  Dense\n",
    "from keras.utils import to_categorical\n"
   ]
  },
  {
   "cell_type": "code",
   "execution_count": 3,
   "metadata": {},
   "outputs": [
    {
     "data": {
      "text/html": [
       "<div>\n",
       "<style scoped>\n",
       "    .dataframe tbody tr th:only-of-type {\n",
       "        vertical-align: middle;\n",
       "    }\n",
       "\n",
       "    .dataframe tbody tr th {\n",
       "        vertical-align: top;\n",
       "    }\n",
       "\n",
       "    .dataframe thead th {\n",
       "        text-align: right;\n",
       "    }\n",
       "</style>\n",
       "<table border=\"1\" class=\"dataframe\">\n",
       "  <thead>\n",
       "    <tr style=\"text-align: right;\">\n",
       "      <th></th>\n",
       "      <th>sentimen</th>\n",
       "      <th>tweet</th>\n",
       "    </tr>\n",
       "  </thead>\n",
       "  <tbody>\n",
       "    <tr>\n",
       "      <th>0</th>\n",
       "      <td>2</td>\n",
       "      <td>[-0.23693527, 0.4661431, 0.18114139, 0.0412429...</td>\n",
       "    </tr>\n",
       "    <tr>\n",
       "      <th>1</th>\n",
       "      <td>0</td>\n",
       "      <td>[-0.22296488, 0.39398727, -0.08384471, -0.0073...</td>\n",
       "    </tr>\n",
       "    <tr>\n",
       "      <th>2</th>\n",
       "      <td>0</td>\n",
       "      <td>[-0.20492682, 0.38979286, 0.13093518, 0.001421...</td>\n",
       "    </tr>\n",
       "    <tr>\n",
       "      <th>3</th>\n",
       "      <td>1</td>\n",
       "      <td>[-0.22495545, 0.3846609, 0.06029179, -0.004197...</td>\n",
       "    </tr>\n",
       "    <tr>\n",
       "      <th>4</th>\n",
       "      <td>1</td>\n",
       "      <td>[-0.19274125, 0.33150145, 0.108148955, 0.00647...</td>\n",
       "    </tr>\n",
       "    <tr>\n",
       "      <th>...</th>\n",
       "      <td>...</td>\n",
       "      <td>...</td>\n",
       "    </tr>\n",
       "    <tr>\n",
       "      <th>3622</th>\n",
       "      <td>1</td>\n",
       "      <td>[-0.25888678, 0.42448446, -0.04033168, 0.02534...</td>\n",
       "    </tr>\n",
       "    <tr>\n",
       "      <th>3623</th>\n",
       "      <td>0</td>\n",
       "      <td>[-0.0411884, 0.0726178, 0.017441615, -0.006870...</td>\n",
       "    </tr>\n",
       "    <tr>\n",
       "      <th>3624</th>\n",
       "      <td>1</td>\n",
       "      <td>[-0.28592643, 0.46843383, -0.06715221, 0.05487...</td>\n",
       "    </tr>\n",
       "    <tr>\n",
       "      <th>3625</th>\n",
       "      <td>2</td>\n",
       "      <td>[-0.42324647, 0.6188472, -0.39290512, 0.063082...</td>\n",
       "    </tr>\n",
       "    <tr>\n",
       "      <th>3626</th>\n",
       "      <td>0</td>\n",
       "      <td>[-0.2551664, 0.39127082, -0.07912804, 0.048720...</td>\n",
       "    </tr>\n",
       "  </tbody>\n",
       "</table>\n",
       "<p>3627 rows × 2 columns</p>\n",
       "</div>"
      ],
      "text/plain": [
       "      sentimen                                              tweet\n",
       "0            2  [-0.23693527, 0.4661431, 0.18114139, 0.0412429...\n",
       "1            0  [-0.22296488, 0.39398727, -0.08384471, -0.0073...\n",
       "2            0  [-0.20492682, 0.38979286, 0.13093518, 0.001421...\n",
       "3            1  [-0.22495545, 0.3846609, 0.06029179, -0.004197...\n",
       "4            1  [-0.19274125, 0.33150145, 0.108148955, 0.00647...\n",
       "...        ...                                                ...\n",
       "3622         1  [-0.25888678, 0.42448446, -0.04033168, 0.02534...\n",
       "3623         0  [-0.0411884, 0.0726178, 0.017441615, -0.006870...\n",
       "3624         1  [-0.28592643, 0.46843383, -0.06715221, 0.05487...\n",
       "3625         2  [-0.42324647, 0.6188472, -0.39290512, 0.063082...\n",
       "3626         0  [-0.2551664, 0.39127082, -0.07912804, 0.048720...\n",
       "\n",
       "[3627 rows x 2 columns]"
      ]
     },
     "execution_count": 3,
     "metadata": {},
     "output_type": "execute_result"
    }
   ],
   "source": [
    "df = pd.read_csv('./cbow_tweets.csv')\n",
    "X = df.tweet\n",
    "y = df.sentimen\n",
    "df"
   ]
  },
  {
   "cell_type": "markdown",
   "metadata": {},
   "source": [
    "# Data Modeling"
   ]
  },
  {
   "cell_type": "code",
   "execution_count": 4,
   "metadata": {},
   "outputs": [],
   "source": [
    "X_train, X_test, y_train, y_test = train_test_split(X, to_categorical(y,3), test_size=0.30, random_state=42)"
   ]
  },
  {
   "cell_type": "code",
   "execution_count": 5,
   "metadata": {},
   "outputs": [
    {
     "data": {
      "text/plain": [
       "(2538,)"
      ]
     },
     "execution_count": 5,
     "metadata": {},
     "output_type": "execute_result"
    }
   ],
   "source": [
    "X_train.shape"
   ]
  },
  {
   "cell_type": "code",
   "execution_count": 6,
   "metadata": {},
   "outputs": [],
   "source": [
    "max_len = 5000\n",
    "# Ubah string menjadi daftar\n",
    "X_train = X_train.apply(ast.literal_eval)\n",
    "X_test = X_test.apply(ast.literal_eval)\n"
   ]
  },
  {
   "cell_type": "code",
   "execution_count": 7,
   "metadata": {},
   "outputs": [
    {
     "data": {
      "text/plain": [
       "(2750    [-0.16739282, 0.3037498, 0.1095004, -0.0168874...\n",
       " 1926    [-0.22296488, 0.39398727, -0.08384471, -0.0073...\n",
       " 2827    [-0.04836996, 0.29832825, -0.069404125, -0.122...\n",
       " 772     [-0.15679042, 0.2838059, 0.10042761, -0.003986...\n",
       " 2312    [-0.15137792, 0.2739695, 0.10216854, -0.000640...\n",
       "                               ...                        \n",
       " 1130    [0.056327455, 0.26789474, -0.351737, -0.138519...\n",
       " 1294    [-0.10576344, 0.19828708, 0.08567187, -0.01569...\n",
       " 860     [-0.13930349, 0.25616685, 0.096121155, 0.00048...\n",
       " 3507    [-0.11593732, 0.23687796, 0.08598387, -0.01728...\n",
       " 3174    [-0.2327762, 0.31767967, 0.30718577, -0.028748...\n",
       " Name: tweet, Length: 2538, dtype: object,\n",
       " 602     [-0.22495545, 0.3846609, 0.06029179, -0.004197...\n",
       " 1826    [-0.13874248, 0.275784, 0.026293451, -0.019701...\n",
       " 2404    [-0.17464893, 0.31447002, 0.13787124, -0.02362...\n",
       " 3178    [-0.3476616, 0.6700046, 0.013283921, 0.1623264...\n",
       " 2507    [-0.10122596, 0.17598279, 0.05153378, 0.008293...\n",
       "                               ...                        \n",
       " 328     [-0.108228594, 0.20650794, 0.031338096, 0.0041...\n",
       " 1378    [-0.04836996, 0.29832825, -0.069404125, -0.122...\n",
       " 2053    [-0.19132459, 0.38672617, 0.06779185, -0.02160...\n",
       " 367     [-0.07332067, 0.12753406, 0.018820848, -0.0035...\n",
       " 3133    [-0.11258442, 0.19613361, 0.050676327, 0.00430...\n",
       " Name: tweet, Length: 1089, dtype: object,\n",
       " array([[1., 0., 0.],\n",
       "        [0., 0., 1.],\n",
       "        [0., 1., 0.],\n",
       "        ...,\n",
       "        [0., 0., 1.],\n",
       "        [0., 0., 1.],\n",
       "        [1., 0., 0.]], dtype=float32),\n",
       " array([[0., 0., 1.],\n",
       "        [0., 1., 0.],\n",
       "        [0., 1., 0.],\n",
       "        ...,\n",
       "        [0., 0., 1.],\n",
       "        [0., 1., 0.],\n",
       "        [0., 1., 0.]], dtype=float32))"
      ]
     },
     "execution_count": 7,
     "metadata": {},
     "output_type": "execute_result"
    }
   ],
   "source": [
    "X_train, X_test, y_train, y_test"
   ]
  },
  {
   "cell_type": "code",
   "execution_count": 8,
   "metadata": {},
   "outputs": [],
   "source": [
    "# Gunakan pad_sequences\n",
    "X_train = pad_sequences(X_train, maxlen=max_len, value=0)\n",
    "X_test = pad_sequences(X_test, maxlen=max_len, value=0)"
   ]
  },
  {
   "cell_type": "code",
   "execution_count": 9,
   "metadata": {},
   "outputs": [
    {
     "data": {
      "text/plain": [
       "(array([[0, 0, 0, ..., 0, 0, 0],\n",
       "        [0, 0, 0, ..., 0, 0, 0],\n",
       "        [0, 0, 0, ..., 0, 0, 0],\n",
       "        ...,\n",
       "        [0, 0, 0, ..., 0, 0, 0],\n",
       "        [0, 0, 0, ..., 0, 0, 0],\n",
       "        [0, 0, 0, ..., 0, 0, 0]]),\n",
       " array([[0, 0, 0, ..., 0, 0, 0],\n",
       "        [0, 0, 0, ..., 0, 0, 0],\n",
       "        [0, 0, 0, ..., 0, 0, 0],\n",
       "        ...,\n",
       "        [0, 0, 0, ..., 0, 0, 0],\n",
       "        [0, 0, 0, ..., 0, 0, 0],\n",
       "        [0, 0, 0, ..., 0, 0, 0]]))"
      ]
     },
     "execution_count": 9,
     "metadata": {},
     "output_type": "execute_result"
    }
   ],
   "source": [
    "X_train, X_test"
   ]
  },
  {
   "cell_type": "code",
   "execution_count": 10,
   "metadata": {},
   "outputs": [
    {
     "data": {
      "text/plain": [
       "((2538, 5000), (1089, 5000), (2538, 3), (1089, 3))"
      ]
     },
     "execution_count": 10,
     "metadata": {},
     "output_type": "execute_result"
    }
   ],
   "source": [
    "X_train.shape, X_test.shape, y_train.shape, y_test.shape"
   ]
  },
  {
   "cell_type": "markdown",
   "metadata": {},
   "source": [
    "# Model Training with:"
   ]
  },
  {
   "cell_type": "code",
   "execution_count": 11,
   "metadata": {},
   "outputs": [
    {
     "data": {
      "text/plain": [
       "(2538, 5000)"
      ]
     },
     "execution_count": 11,
     "metadata": {},
     "output_type": "execute_result"
    }
   ],
   "source": [
    "X_train.shape"
   ]
  },
  {
   "cell_type": "code",
   "execution_count": 12,
   "metadata": {},
   "outputs": [],
   "source": [
    "# Neural Network architecture\n",
    "\n",
    "snn_model = Sequential()\n",
    "# input layer + hidden layer\n",
    "snn_model.add(Dense(64, input_dim=max_len, activation='relu'))\n",
    "# hidden layer\n",
    "snn_model.add(Dense(64, activation='relu'))\n",
    "snn_model.add(Dense(64, activation='relu'))\n",
    "# output layer\n",
    "snn_model.add(Dense(3, activation='softmax'))"
   ]
  },
  {
   "cell_type": "code",
   "execution_count": 13,
   "metadata": {},
   "outputs": [
    {
     "name": "stdout",
     "output_type": "stream",
     "text": [
      "Model: \"sequential\"\n",
      "_________________________________________________________________\n",
      " Layer (type)                Output Shape              Param #   \n",
      "=================================================================\n",
      " dense (Dense)               (None, 64)                320064    \n",
      "                                                                 \n",
      " dense_1 (Dense)             (None, 64)                4160      \n",
      "                                                                 \n",
      " dense_2 (Dense)             (None, 64)                4160      \n",
      "                                                                 \n",
      " dense_3 (Dense)             (None, 3)                 195       \n",
      "                                                                 \n",
      "=================================================================\n",
      "Total params: 328579 (1.25 MB)\n",
      "Trainable params: 328579 (1.25 MB)\n",
      "Non-trainable params: 0 (0.00 Byte)\n",
      "_________________________________________________________________\n",
      "None\n"
     ]
    }
   ],
   "source": [
    "# Model compiling\n",
    "\n",
    "snn_model.compile(optimizer='adam', loss='categorical_crossentropy', metrics=['acc'])\n",
    "print(snn_model.summary())"
   ]
  },
  {
   "cell_type": "code",
   "execution_count": 14,
   "metadata": {},
   "outputs": [
    {
     "name": "stdout",
     "output_type": "stream",
     "text": [
      "Epoch 1/50\n"
     ]
    },
    {
     "name": "stdout",
     "output_type": "stream",
     "text": [
      "159/159 [==============================] - 3s 10ms/step - loss: 1.0834 - acc: 0.3700 - val_loss: 1.0659 - val_acc: 0.4408\n",
      "Epoch 2/50\n",
      "159/159 [==============================] - 1s 8ms/step - loss: 1.0517 - acc: 0.4354 - val_loss: 1.0504 - val_acc: 0.4490\n",
      "Epoch 3/50\n",
      "159/159 [==============================] - 1s 8ms/step - loss: 1.0139 - acc: 0.4862 - val_loss: 1.0566 - val_acc: 0.4353\n",
      "Epoch 4/50\n",
      "159/159 [==============================] - 1s 8ms/step - loss: 0.9695 - acc: 0.5193 - val_loss: 1.0746 - val_acc: 0.4408\n",
      "Epoch 5/50\n",
      "159/159 [==============================] - 1s 9ms/step - loss: 0.9022 - acc: 0.5611 - val_loss: 1.0934 - val_acc: 0.4656\n",
      "Epoch 6/50\n",
      "159/159 [==============================] - 1s 8ms/step - loss: 0.8409 - acc: 0.6123 - val_loss: 1.1333 - val_acc: 0.4656\n",
      "Epoch 7/50\n",
      "159/159 [==============================] - 1s 7ms/step - loss: 0.7783 - acc: 0.6454 - val_loss: 1.1629 - val_acc: 0.4545\n",
      "Epoch 8/50\n",
      "159/159 [==============================] - 1s 7ms/step - loss: 0.7216 - acc: 0.6875 - val_loss: 1.2724 - val_acc: 0.4757\n",
      "Epoch 9/50\n",
      "159/159 [==============================] - 1s 7ms/step - loss: 0.6709 - acc: 0.6990 - val_loss: 1.2846 - val_acc: 0.4858\n",
      "Epoch 10/50\n",
      "159/159 [==============================] - 1s 8ms/step - loss: 0.6230 - acc: 0.7301 - val_loss: 1.3488 - val_acc: 0.4692\n",
      "Epoch 11/50\n",
      "159/159 [==============================] - 1s 7ms/step - loss: 0.5911 - acc: 0.7411 - val_loss: 1.4089 - val_acc: 0.4848\n",
      "Epoch 12/50\n",
      "159/159 [==============================] - 1s 7ms/step - loss: 0.5429 - acc: 0.7644 - val_loss: 1.5147 - val_acc: 0.4674\n",
      "Epoch 13/50\n",
      "159/159 [==============================] - 1s 7ms/step - loss: 0.5182 - acc: 0.7805 - val_loss: 1.5902 - val_acc: 0.4904\n",
      "Epoch 14/50\n",
      "159/159 [==============================] - 1s 7ms/step - loss: 0.4998 - acc: 0.7746 - val_loss: 1.7618 - val_acc: 0.5051\n",
      "Epoch 15/50\n",
      "159/159 [==============================] - 1s 7ms/step - loss: 0.4796 - acc: 0.7963 - val_loss: 1.7707 - val_acc: 0.5078\n",
      "Epoch 16/50\n",
      "159/159 [==============================] - 1s 7ms/step - loss: 0.4373 - acc: 0.8219 - val_loss: 1.7970 - val_acc: 0.5032\n",
      "Epoch 17/50\n",
      "159/159 [==============================] - 1s 7ms/step - loss: 0.4082 - acc: 0.8219 - val_loss: 1.9472 - val_acc: 0.5152\n",
      "Epoch 18/50\n",
      "159/159 [==============================] - 1s 8ms/step - loss: 0.4024 - acc: 0.8282 - val_loss: 2.0442 - val_acc: 0.4995\n",
      "Epoch 19/50\n",
      "159/159 [==============================] - 1s 8ms/step - loss: 0.3866 - acc: 0.8306 - val_loss: 2.1267 - val_acc: 0.5060\n",
      "Epoch 20/50\n",
      "159/159 [==============================] - 1s 7ms/step - loss: 0.3571 - acc: 0.8467 - val_loss: 2.2063 - val_acc: 0.5234\n",
      "Epoch 21/50\n",
      "159/159 [==============================] - 1s 8ms/step - loss: 0.3511 - acc: 0.8471 - val_loss: 2.3553 - val_acc: 0.5216\n",
      "Epoch 22/50\n",
      "159/159 [==============================] - 1s 7ms/step - loss: 0.3296 - acc: 0.8562 - val_loss: 2.3884 - val_acc: 0.5096\n",
      "Epoch 23/50\n",
      "159/159 [==============================] - 1s 8ms/step - loss: 0.3305 - acc: 0.8613 - val_loss: 2.4866 - val_acc: 0.5087\n",
      "Epoch 24/50\n",
      "159/159 [==============================] - 1s 7ms/step - loss: 0.3096 - acc: 0.8593 - val_loss: 2.5960 - val_acc: 0.5179\n",
      "Epoch 25/50\n",
      "159/159 [==============================] - 1s 8ms/step - loss: 0.3083 - acc: 0.8629 - val_loss: 2.6698 - val_acc: 0.5308\n",
      "Epoch 26/50\n",
      "159/159 [==============================] - 1s 8ms/step - loss: 0.3057 - acc: 0.8672 - val_loss: 2.6248 - val_acc: 0.5234\n",
      "Epoch 27/50\n",
      "159/159 [==============================] - 1s 7ms/step - loss: 0.2995 - acc: 0.8700 - val_loss: 2.8408 - val_acc: 0.5188\n",
      "Epoch 28/50\n",
      "159/159 [==============================] - 2s 11ms/step - loss: 0.2993 - acc: 0.8676 - val_loss: 2.7721 - val_acc: 0.5280\n",
      "Epoch 29/50\n",
      "159/159 [==============================] - 1s 8ms/step - loss: 0.2886 - acc: 0.8779 - val_loss: 2.8512 - val_acc: 0.5298\n",
      "Epoch 30/50\n",
      "159/159 [==============================] - 1s 9ms/step - loss: 0.2813 - acc: 0.8786 - val_loss: 2.9639 - val_acc: 0.5225\n",
      "Epoch 31/50\n",
      "159/159 [==============================] - 1s 8ms/step - loss: 0.2862 - acc: 0.8723 - val_loss: 3.0461 - val_acc: 0.5152\n",
      "Epoch 32/50\n",
      "159/159 [==============================] - 1s 8ms/step - loss: 0.2771 - acc: 0.8743 - val_loss: 3.1334 - val_acc: 0.5354\n",
      "Epoch 33/50\n",
      "159/159 [==============================] - 1s 8ms/step - loss: 0.2921 - acc: 0.8747 - val_loss: 2.9289 - val_acc: 0.5409\n",
      "Epoch 34/50\n",
      "159/159 [==============================] - 1s 8ms/step - loss: 0.2637 - acc: 0.8814 - val_loss: 3.0711 - val_acc: 0.5271\n",
      "Epoch 35/50\n",
      "159/159 [==============================] - 1s 8ms/step - loss: 0.2521 - acc: 0.8853 - val_loss: 3.1317 - val_acc: 0.5317\n",
      "Epoch 36/50\n",
      "159/159 [==============================] - 1s 8ms/step - loss: 0.2446 - acc: 0.8913 - val_loss: 3.2494 - val_acc: 0.5335\n",
      "Epoch 37/50\n",
      "159/159 [==============================] - 1s 9ms/step - loss: 0.2373 - acc: 0.8885 - val_loss: 3.2650 - val_acc: 0.5326\n",
      "Epoch 38/50\n",
      "159/159 [==============================] - 2s 10ms/step - loss: 0.2380 - acc: 0.8873 - val_loss: 3.1609 - val_acc: 0.5243\n",
      "Epoch 39/50\n",
      "159/159 [==============================] - 1s 8ms/step - loss: 0.2472 - acc: 0.8846 - val_loss: 3.2725 - val_acc: 0.5298\n",
      "Epoch 40/50\n",
      "159/159 [==============================] - 1s 9ms/step - loss: 0.2538 - acc: 0.8853 - val_loss: 3.3258 - val_acc: 0.5335\n",
      "Epoch 41/50\n",
      "159/159 [==============================] - 1s 8ms/step - loss: 0.2511 - acc: 0.8771 - val_loss: 3.4830 - val_acc: 0.5409\n",
      "Epoch 42/50\n",
      "159/159 [==============================] - 1s 9ms/step - loss: 0.2405 - acc: 0.8885 - val_loss: 3.3721 - val_acc: 0.5298\n",
      "Epoch 43/50\n",
      "159/159 [==============================] - 2s 10ms/step - loss: 0.2416 - acc: 0.8810 - val_loss: 3.5410 - val_acc: 0.5253\n",
      "Epoch 44/50\n",
      "159/159 [==============================] - 2s 10ms/step - loss: 0.2481 - acc: 0.8814 - val_loss: 3.5419 - val_acc: 0.5363\n",
      "Epoch 45/50\n",
      "159/159 [==============================] - 1s 8ms/step - loss: 0.2388 - acc: 0.8889 - val_loss: 3.6355 - val_acc: 0.5427\n",
      "Epoch 46/50\n",
      "159/159 [==============================] - 1s 8ms/step - loss: 0.2660 - acc: 0.8810 - val_loss: 3.3644 - val_acc: 0.5409\n",
      "Epoch 47/50\n",
      "159/159 [==============================] - 1s 8ms/step - loss: 0.2652 - acc: 0.8783 - val_loss: 3.2500 - val_acc: 0.5142\n",
      "Epoch 48/50\n",
      "159/159 [==============================] - 2s 10ms/step - loss: 0.2534 - acc: 0.8869 - val_loss: 3.4476 - val_acc: 0.5142\n",
      "Epoch 49/50\n",
      "159/159 [==============================] - 1s 9ms/step - loss: 0.2314 - acc: 0.8944 - val_loss: 3.4168 - val_acc: 0.5243\n",
      "Epoch 50/50\n",
      "159/159 [==============================] - 1s 9ms/step - loss: 0.2226 - acc: 0.8924 - val_loss: 3.4688 - val_acc: 0.5335\n"
     ]
    },
    {
     "data": {
      "text/plain": [
       "<keras.src.callbacks.History at 0x21f4124a4d0>"
      ]
     },
     "execution_count": 14,
     "metadata": {},
     "output_type": "execute_result"
    }
   ],
   "source": [
    "# Model training\n",
    "\n",
    "snn_model_history = snn_model.fit(X_train, y_train, batch_size=16, epochs=50, validation_data=(X_test, y_test))\n",
    "snn_model_history"
   ]
  },
  {
   "cell_type": "markdown",
   "metadata": {},
   "source": [
    "# Model Evaluation"
   ]
  },
  {
   "cell_type": "code",
   "execution_count": 15,
   "metadata": {},
   "outputs": [
    {
     "data": {
      "text/plain": [
       "0.32966023875114786"
      ]
     },
     "execution_count": 15,
     "metadata": {},
     "output_type": "execute_result"
    }
   ],
   "source": [
    "baseline_test_acc = np.mean(np.dot(y_test, np.arange(3)) == 2)\n",
    "baseline_test_acc"
   ]
  },
  {
   "cell_type": "code",
   "execution_count": 16,
   "metadata": {},
   "outputs": [
    {
     "name": "stdout",
     "output_type": "stream",
     "text": [
      " 1/35 [..............................] - ETA: 3s - loss: 2.5524 - acc: 0.5625"
     ]
    },
    {
     "name": "stdout",
     "output_type": "stream",
     "text": [
      "35/35 [==============================] - 0s 3ms/step - loss: 3.4688 - acc: 0.5335\n"
     ]
    }
   ],
   "source": [
    "# Predictions on the Test Set\n",
    "\n",
    "score = snn_model.evaluate(X_test, y_test, verbose=1)"
   ]
  },
  {
   "cell_type": "code",
   "execution_count": 17,
   "metadata": {},
   "outputs": [
    {
     "name": "stdout",
     "output_type": "stream",
     "text": [
      "Test Score: 3.468782663345337\n",
      "Test Accuracy: 0.5335170030593872\n"
     ]
    }
   ],
   "source": [
    "# Model Performance\n",
    "\n",
    "print(\"Test Score:\", score[0])\n",
    "print(\"Test Accuracy:\", score[1])"
   ]
  },
  {
   "cell_type": "code",
   "execution_count": 18,
   "metadata": {},
   "outputs": [
    {
     "data": {
      "image/png": "[encoded data removed]",
      "text/plain": [
       "<Figure size 640x480 with 1 Axes>"
      ]
     },
     "metadata": {},
     "output_type": "display_data"
    },
    {
     "data": {
      "image/png": "[encoded data removed]",
      "text/plain": [
       "<Figure size 640x480 with 1 Axes>"
      ]
     },
     "metadata": {},
     "output_type": "display_data"
    }
   ],
   "source": [
    "# Model Performance Charts\n",
    "\n",
    "import matplotlib.pyplot as plt\n",
    "\n",
    "plt.plot(snn_model_history.history['acc'])\n",
    "plt.plot(snn_model_history.history['val_acc'])\n",
    "\n",
    "plt.title('model accuracy')\n",
    "plt.ylabel('accuracy')\n",
    "plt.xlabel('epoch')\n",
    "plt.legend(['train','test'], loc='upper left')\n",
    "plt.show()\n",
    "\n",
    "plt.plot(snn_model_history.history['loss'])\n",
    "plt.plot(snn_model_history.history['val_loss'])\n",
    "\n",
    "plt.title('model loss')\n",
    "plt.ylabel('loss')\n",
    "plt.xlabel('epoch')\n",
    "plt.legend(['train','test'], loc='upper left')\n",
    "plt.show()"
   ]
  },
  {
   "cell_type": "code",
   "execution_count": 19,
   "metadata": {},
   "outputs": [
    {
     "data": {
      "text/plain": [
       "array([2, 1, 1, ..., 2, 1, 1], dtype=int64)"
      ]
     },
     "execution_count": 19,
     "metadata": {},
     "output_type": "execute_result"
    }
   ],
   "source": [
    "# mengembalikan to_categorical y_test menjadi list\n",
    "y_test = np.argmax(y_test,axis=1)\n",
    "y_test"
   ]
  },
  {
   "cell_type": "code",
   "execution_count": 20,
   "metadata": {},
   "outputs": [
    {
     "name": "stdout",
     "output_type": "stream",
     "text": [
      "35/35 [==============================] - 0s 2ms/step\n"
     ]
    },
    {
     "data": {
      "text/plain": [
       "array([0, 0, 2, ..., 1, 1, 1], dtype=int64)"
      ]
     },
     "execution_count": 20,
     "metadata": {},
     "output_type": "execute_result"
    }
   ],
   "source": [
    "# predict y_pred untuk Confusion Matrix\n",
    "y_pred = snn_model.predict(X_test)\n",
    "y_pred_class = np.argmax(y_pred, axis=1)\n",
    "y_pred_class"
   ]
  },
  {
   "cell_type": "code",
   "execution_count": 21,
   "metadata": {},
   "outputs": [],
   "source": [
    "cm = confusion_matrix(y_test, y_pred_class)"
   ]
  },
  {
   "cell_type": "code",
   "execution_count": 22,
   "metadata": {},
   "outputs": [
    {
     "data": {
      "image/png": "[encoded data removed]",
      "text/plain": [
       "<Figure size 1000x700 with 2 Axes>"
      ]
     },
     "metadata": {},
     "output_type": "display_data"
    }
   ],
   "source": [
    "plt.figure(figsize=(10,7))\n",
    "sns.heatmap(cm, annot=True, fmt='d', cmap='coolwarm', xticklabels=['negatif','netral','positif'], yticklabels=['negatif','netral','positif'])\n",
    "plt.xlabel('Predicted')\n",
    "plt.ylabel('Actual')\n",
    "plt.show()"
   ]
  },
  {
   "cell_type": "code",
   "execution_count": 23,
   "metadata": {},
   "outputs": [
    {
     "name": "stdout",
     "output_type": "stream",
     "text": [
      "              precision    recall  f1-score   support\n",
      "\n",
      "           0       0.52      0.54      0.53       342\n",
      "           1       0.57      0.54      0.55       388\n",
      "           2       0.51      0.53      0.52       359\n",
      "\n",
      "    accuracy                           0.53      1089\n",
      "   macro avg       0.53      0.53      0.53      1089\n",
      "weighted avg       0.53      0.53      0.53      1089\n",
      "\n",
      "Accuracy: 0.5335169880624426\n"
     ]
    }
   ],
   "source": [
    "report = classification_report(y_test, y_pred_class)\n",
    "print(report)\n",
    "\n",
    "# Hitung dan cetak accuracy\n",
    "accuracy = accuracy_score(y_test, y_pred_class)\n",
    "print(f'Accuracy: {accuracy}')"
   ]
  }
 ],
 "metadata": {
  "kernelspec": {
   "display_name": "Python 3",
   "language": "python",
   "name": "python3"
  },
  "language_info": {
   "codemirror_mode": {
    "name": "ipython",
    "version": 3
   },
   "file_extension": ".py",
   "mimetype": "text/x-python",
   "name": "python",
   "nbconvert_exporter": "python",
   "pygments_lexer": "ipython3",
   "version": "3.11.5"
  }
 },
 "nbformat": 4,
 "nbformat_minor": 2
}

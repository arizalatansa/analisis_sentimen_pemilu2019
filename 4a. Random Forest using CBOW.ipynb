{
 "cells": [
  {
   "cell_type": "markdown",
   "metadata": {},
   "source": [
    "# Setting Environment"
   ]
  },
  {
   "cell_type": "code",
   "execution_count": 5,
   "metadata": {},
   "outputs": [],
   "source": [
    "import numpy as np\n",
    "import pandas as pd\n",
    "import matplotlib.pyplot as plt\n",
    "import seaborn as sns\n",
    "%matplotlib inline\n",
    "\n",
    "import ast\n",
    "from sklearn.model_selection import train_test_split\n",
    "from sklearn.ensemble import RandomForestClassifier\n",
    "from sklearn.metrics import confusion_matrix, classification_report, accuracy_score\n",
    "from keras.preprocessing import sequence\n",
    "from keras.preprocessing.sequence import pad_sequences\n",
    "from sklearn.model_selection import GridSearchCV"
   ]
  },
  {
   "cell_type": "code",
   "execution_count": 6,
   "metadata": {},
   "outputs": [
    {
     "data": {
      "text/html": [
       "<div>\n",
       "<style scoped>\n",
       "    .dataframe tbody tr th:only-of-type {\n",
       "        vertical-align: middle;\n",
       "    }\n",
       "\n",
       "    .dataframe tbody tr th {\n",
       "        vertical-align: top;\n",
       "    }\n",
       "\n",
       "    .dataframe thead th {\n",
       "        text-align: right;\n",
       "    }\n",
       "</style>\n",
       "<table border=\"1\" class=\"dataframe\">\n",
       "  <thead>\n",
       "    <tr style=\"text-align: right;\">\n",
       "      <th></th>\n",
       "      <th>sentimen</th>\n",
       "      <th>tweet</th>\n",
       "    </tr>\n",
       "  </thead>\n",
       "  <tbody>\n",
       "    <tr>\n",
       "      <th>0</th>\n",
       "      <td>2</td>\n",
       "      <td>[-0.23693527, 0.4661431, 0.18114139, 0.0412429...</td>\n",
       "    </tr>\n",
       "    <tr>\n",
       "      <th>1</th>\n",
       "      <td>0</td>\n",
       "      <td>[-0.22296488, 0.39398727, -0.08384471, -0.0073...</td>\n",
       "    </tr>\n",
       "    <tr>\n",
       "      <th>2</th>\n",
       "      <td>0</td>\n",
       "      <td>[-0.20492682, 0.38979286, 0.13093518, 0.001421...</td>\n",
       "    </tr>\n",
       "    <tr>\n",
       "      <th>3</th>\n",
       "      <td>1</td>\n",
       "      <td>[-0.22495545, 0.3846609, 0.06029179, -0.004197...</td>\n",
       "    </tr>\n",
       "    <tr>\n",
       "      <th>4</th>\n",
       "      <td>1</td>\n",
       "      <td>[-0.19274125, 0.33150145, 0.108148955, 0.00647...</td>\n",
       "    </tr>\n",
       "  </tbody>\n",
       "</table>\n",
       "</div>"
      ],
      "text/plain": [
       "   sentimen                                              tweet\n",
       "0         2  [-0.23693527, 0.4661431, 0.18114139, 0.0412429...\n",
       "1         0  [-0.22296488, 0.39398727, -0.08384471, -0.0073...\n",
       "2         0  [-0.20492682, 0.38979286, 0.13093518, 0.001421...\n",
       "3         1  [-0.22495545, 0.3846609, 0.06029179, -0.004197...\n",
       "4         1  [-0.19274125, 0.33150145, 0.108148955, 0.00647..."
      ]
     },
     "execution_count": 6,
     "metadata": {},
     "output_type": "execute_result"
    }
   ],
   "source": [
    "df_tweets = pd.read_csv('./cbow_tweets.csv')\n",
    "df_tweets.head()"
   ]
  },
  {
   "cell_type": "markdown",
   "metadata": {},
   "source": [
    "# Fiture Selection"
   ]
  },
  {
   "cell_type": "code",
   "execution_count": 7,
   "metadata": {},
   "outputs": [],
   "source": [
    "X = df_tweets.tweet\n",
    "y = df_tweets.sentimen"
   ]
  },
  {
   "cell_type": "markdown",
   "metadata": {},
   "source": [
    "# Data Modeling"
   ]
  },
  {
   "cell_type": "code",
   "execution_count": 8,
   "metadata": {},
   "outputs": [],
   "source": [
    "X_train, X_test, y_train, y_test = train_test_split(X,y, test_size=0.2, random_state=10) "
   ]
  },
  {
   "cell_type": "code",
   "execution_count": 9,
   "metadata": {},
   "outputs": [
    {
     "data": {
      "text/plain": [
       "(2331    [-0.1880696, 0.32973382, 0.08497452, 0.0054769...\n",
       " 2558    [-0.11976984, 0.1957274, 0.024797132, 0.003356...\n",
       " 1234    [-0.04524022, 0.30104125, 0.09387542, -0.10146...\n",
       " 1804    [-0.07742319, 0.14883535, 0.042852886, 0.00604...\n",
       " 2165    [-0.04836996, 0.29832825, -0.069404125, -0.122...\n",
       "                               ...                        \n",
       " 3441    [-0.13277557, 0.30124015, 0.13550697, -0.05599...\n",
       " 1344    [-0.23291521, 0.36474136, 0.10707055, -0.03570...\n",
       " 527     [-0.14244759, 0.24897668, 0.05724673, 0.009201...\n",
       " 3197    [-0.04836996, 0.29832825, -0.069404125, -0.122...\n",
       " 1289    [-0.3476616, 0.6700046, 0.013283921, 0.1623264...\n",
       " Name: tweet, Length: 2901, dtype: object,\n",
       " 101     [-0.09755726, 0.15881033, 0.03442928, -0.00033...\n",
       " 1080    [-0.15706395, 0.28843608, 0.17047228, -0.01618...\n",
       " 1731    [-0.06972661, 0.12713273, 0.04502087, -0.00809...\n",
       " 3011    [-0.23693527, 0.4661431, 0.18114139, 0.0412429...\n",
       " 2362    [-0.15713602, 0.27141103, 0.075677134, -0.0081...\n",
       "                               ...                        \n",
       " 565     [-0.04524022, 0.30104125, 0.09387542, -0.10146...\n",
       " 3248    [-0.051117968, 0.09294588, 0.015046463, 0.0025...\n",
       " 2740    [-0.15150426, 0.28540844, 0.13451992, 0.005420...\n",
       " 1906    [-0.16352333, 0.4069239, 0.0071300734, -0.0150...\n",
       " 433     [-0.3476616, 0.6700046, 0.013283921, 0.1623264...\n",
       " Name: tweet, Length: 726, dtype: object)"
      ]
     },
     "execution_count": 9,
     "metadata": {},
     "output_type": "execute_result"
    }
   ],
   "source": [
    "X_train, X_test"
   ]
  },
  {
   "cell_type": "code",
   "execution_count": 10,
   "metadata": {},
   "outputs": [],
   "source": [
    "max_len = 3000\n",
    "# Ubah string menjadi daftar\n",
    "X = X.apply(ast.literal_eval)\n",
    "X_train = X_train.apply(ast.literal_eval)\n",
    "X_test = X_test.apply(ast.literal_eval)\n",
    "# Gunakan pad_sequences\n",
    "X = pad_sequences(X, maxlen=max_len)\n",
    "X_train = pad_sequences(X_train, maxlen=max_len)\n",
    "X_test = pad_sequences(X_test, maxlen=max_len)"
   ]
  },
  {
   "cell_type": "code",
   "execution_count": 11,
   "metadata": {},
   "outputs": [
    {
     "data": {
      "text/plain": [
       "(array([[0, 0, 0, ..., 0, 0, 0],\n",
       "        [0, 0, 0, ..., 0, 0, 0],\n",
       "        [0, 0, 0, ..., 0, 0, 0],\n",
       "        ...,\n",
       "        [0, 0, 0, ..., 0, 0, 0],\n",
       "        [0, 0, 0, ..., 0, 0, 0],\n",
       "        [0, 0, 0, ..., 0, 0, 0]]),\n",
       " array([[0, 0, 0, ..., 0, 0, 0],\n",
       "        [0, 0, 0, ..., 0, 0, 0],\n",
       "        [0, 0, 0, ..., 0, 0, 0],\n",
       "        ...,\n",
       "        [0, 0, 0, ..., 0, 0, 0],\n",
       "        [0, 0, 0, ..., 0, 0, 0],\n",
       "        [0, 0, 0, ..., 0, 0, 0]]))"
      ]
     },
     "execution_count": 11,
     "metadata": {},
     "output_type": "execute_result"
    }
   ],
   "source": [
    "X_train, X_test"
   ]
  },
  {
   "cell_type": "code",
   "execution_count": 12,
   "metadata": {},
   "outputs": [
    {
     "name": "stdout",
     "output_type": "stream",
     "text": [
      "(2901, 3000)\n",
      "(726, 3000)\n",
      "(2901,)\n",
      "(726,)\n"
     ]
    }
   ],
   "source": [
    "print(X_train.shape)\n",
    "print(X_test.shape)\n",
    "print(y_train.shape)\n",
    "print(y_test.shape)"
   ]
  },
  {
   "cell_type": "code",
   "execution_count": 13,
   "metadata": {},
   "outputs": [],
   "source": [
    "\n",
    "scores = ['precision', 'recall']\n",
    "\n",
    "def run_tuning(model, hyperparameters, scores, X_train, y_train, X_test, y_test):\n",
    "    for score in scores:\n",
    "        print(\"Tuning hyperparameter for %s\" % score)\n",
    "        print()\n",
    "\n",
    "        clf = GridSearchCV(model, hyperparameters, scoring='%s_macro' % score, cv=None, n_jobs=-1)\n",
    "        clf.fit(X_train, y_train)\n",
    "\n",
    "        print('Best parameter set found: ')\n",
    "        print()\n",
    "        print(clf.best_params_)\n",
    "        print()\n",
    "\n",
    "        print('Grid scores in process: ')\n",
    "        print()\n",
    "        means = clf.cv_results_['mean_test_score']\n",
    "\n",
    "        for mean, params in zip(means, clf.cv_results_['params']):\n",
    "            print('%0.3f for %r' % (mean, params))\n",
    "\n",
    "        print()\n",
    "        print()\n",
    "        print('Detail Classification Report')\n",
    "        y_pred = clf.predict(X_test)\n",
    "        print(classification_report(y_test, y_pred))\n",
    "        print()\n",
    "     "
   ]
  },
  {
   "cell_type": "code",
   "execution_count": 14,
   "metadata": {},
   "outputs": [],
   "source": [
    "\n",
    "hyperparameters = {\n",
    "    'bootstrap': [True],\n",
    "    'max_depth': [10, 100],\n",
    "    'max_features': [2, 3, 'auto'],\n",
    "    'n_estimators': [10, 100, 200]}"
   ]
  },
  {
   "cell_type": "code",
   "execution_count": 15,
   "metadata": {},
   "outputs": [
    {
     "name": "stdout",
     "output_type": "stream",
     "text": [
      "Tuning hyperparameter for precision\n",
      "\n"
     ]
    },
    {
     "name": "stdout",
     "output_type": "stream",
     "text": [
      "Best parameter set found: \n",
      "\n",
      "{'bootstrap': True, 'max_depth': 100, 'max_features': 2, 'n_estimators': 200}\n",
      "\n",
      "Grid scores in process: \n",
      "\n",
      "0.405 for {'bootstrap': True, 'max_depth': 10, 'max_features': 2, 'n_estimators': 10}\n",
      "0.477 for {'bootstrap': True, 'max_depth': 10, 'max_features': 2, 'n_estimators': 100}\n",
      "0.469 for {'bootstrap': True, 'max_depth': 10, 'max_features': 2, 'n_estimators': 200}\n",
      "0.445 for {'bootstrap': True, 'max_depth': 10, 'max_features': 3, 'n_estimators': 10}\n",
      "0.473 for {'bootstrap': True, 'max_depth': 10, 'max_features': 3, 'n_estimators': 100}\n",
      "0.483 for {'bootstrap': True, 'max_depth': 10, 'max_features': 3, 'n_estimators': 200}\n",
      "0.446 for {'bootstrap': True, 'max_depth': 10, 'max_features': 'auto', 'n_estimators': 10}\n",
      "0.456 for {'bootstrap': True, 'max_depth': 10, 'max_features': 'auto', 'n_estimators': 100}\n",
      "0.462 for {'bootstrap': True, 'max_depth': 10, 'max_features': 'auto', 'n_estimators': 200}\n",
      "0.499 for {'bootstrap': True, 'max_depth': 100, 'max_features': 2, 'n_estimators': 10}\n",
      "0.525 for {'bootstrap': True, 'max_depth': 100, 'max_features': 2, 'n_estimators': 100}\n",
      "0.533 for {'bootstrap': True, 'max_depth': 100, 'max_features': 2, 'n_estimators': 200}\n",
      "0.506 for {'bootstrap': True, 'max_depth': 100, 'max_features': 3, 'n_estimators': 10}\n",
      "0.524 for {'bootstrap': True, 'max_depth': 100, 'max_features': 3, 'n_estimators': 100}\n",
      "0.520 for {'bootstrap': True, 'max_depth': 100, 'max_features': 3, 'n_estimators': 200}\n",
      "0.512 for {'bootstrap': True, 'max_depth': 100, 'max_features': 'auto', 'n_estimators': 10}\n",
      "0.515 for {'bootstrap': True, 'max_depth': 100, 'max_features': 'auto', 'n_estimators': 100}\n",
      "0.521 for {'bootstrap': True, 'max_depth': 100, 'max_features': 'auto', 'n_estimators': 200}\n",
      "\n",
      "\n",
      "Detail Classification Report\n",
      "              precision    recall  f1-score   support\n",
      "\n",
      "           0       0.51      0.59      0.55       232\n",
      "           1       0.58      0.56      0.57       241\n",
      "           2       0.55      0.49      0.51       253\n",
      "\n",
      "    accuracy                           0.55       726\n",
      "   macro avg       0.55      0.55      0.55       726\n",
      "weighted avg       0.55      0.55      0.55       726\n",
      "\n",
      "\n",
      "Tuning hyperparameter for recall\n",
      "\n",
      "Best parameter set found: \n",
      "\n",
      "{'bootstrap': True, 'max_depth': 100, 'max_features': 2, 'n_estimators': 200}\n",
      "\n",
      "Grid scores in process: \n",
      "\n",
      "0.430 for {'bootstrap': True, 'max_depth': 10, 'max_features': 2, 'n_estimators': 10}\n",
      "0.456 for {'bootstrap': True, 'max_depth': 10, 'max_features': 2, 'n_estimators': 100}\n",
      "0.468 for {'bootstrap': True, 'max_depth': 10, 'max_features': 2, 'n_estimators': 200}\n",
      "0.430 for {'bootstrap': True, 'max_depth': 10, 'max_features': 3, 'n_estimators': 10}\n",
      "0.456 for {'bootstrap': True, 'max_depth': 10, 'max_features': 3, 'n_estimators': 100}\n",
      "0.466 for {'bootstrap': True, 'max_depth': 10, 'max_features': 3, 'n_estimators': 200}\n",
      "0.437 for {'bootstrap': True, 'max_depth': 10, 'max_features': 'auto', 'n_estimators': 10}\n",
      "0.448 for {'bootstrap': True, 'max_depth': 10, 'max_features': 'auto', 'n_estimators': 100}\n",
      "0.449 for {'bootstrap': True, 'max_depth': 10, 'max_features': 'auto', 'n_estimators': 200}\n",
      "0.519 for {'bootstrap': True, 'max_depth': 100, 'max_features': 2, 'n_estimators': 10}\n",
      "0.525 for {'bootstrap': True, 'max_depth': 100, 'max_features': 2, 'n_estimators': 100}\n",
      "0.530 for {'bootstrap': True, 'max_depth': 100, 'max_features': 2, 'n_estimators': 200}\n",
      "0.501 for {'bootstrap': True, 'max_depth': 100, 'max_features': 3, 'n_estimators': 10}\n",
      "0.523 for {'bootstrap': True, 'max_depth': 100, 'max_features': 3, 'n_estimators': 100}\n",
      "0.519 for {'bootstrap': True, 'max_depth': 100, 'max_features': 3, 'n_estimators': 200}\n",
      "0.513 for {'bootstrap': True, 'max_depth': 100, 'max_features': 'auto', 'n_estimators': 10}\n",
      "0.521 for {'bootstrap': True, 'max_depth': 100, 'max_features': 'auto', 'n_estimators': 100}\n",
      "0.523 for {'bootstrap': True, 'max_depth': 100, 'max_features': 'auto', 'n_estimators': 200}\n",
      "\n",
      "\n",
      "Detail Classification Report\n",
      "              precision    recall  f1-score   support\n",
      "\n",
      "           0       0.53      0.57      0.55       232\n",
      "           1       0.56      0.55      0.56       241\n",
      "           2       0.55      0.52      0.53       253\n",
      "\n",
      "    accuracy                           0.55       726\n",
      "   macro avg       0.55      0.55      0.55       726\n",
      "weighted avg       0.55      0.55      0.55       726\n",
      "\n",
      "\n"
     ]
    }
   ],
   "source": [
    "rfc = RandomForestClassifier(n_jobs=-1)\n",
    "run_tuning(rfc, hyperparameters, scores, X_train, y_train, X_test, y_test)"
   ]
  },
  {
   "cell_type": "code",
   "execution_count": 22,
   "metadata": {},
   "outputs": [
    {
     "data": {
      "text/html": [
       "<style>#sk-container-id-2 {color: black;background-color: white;}#sk-container-id-2 pre{padding: 0;}#sk-container-id-2 div.sk-toggleable {background-color: white;}#sk-container-id-2 label.sk-toggleable__label {cursor: pointer;display: block;width: 100%;margin-bottom: 0;padding: 0.3em;box-sizing: border-box;text-align: center;}#sk-container-id-2 label.sk-toggleable__label-arrow:before {content: \"▸\";float: left;margin-right: 0.25em;color: #696969;}#sk-container-id-2 label.sk-toggleable__label-arrow:hover:before {color: black;}#sk-container-id-2 div.sk-estimator:hover label.sk-toggleable__label-arrow:before {color: black;}#sk-container-id-2 div.sk-toggleable__content {max-height: 0;max-width: 0;overflow: hidden;text-align: left;background-color: #f0f8ff;}#sk-container-id-2 div.sk-toggleable__content pre {margin: 0.2em;color: black;border-radius: 0.25em;background-color: #f0f8ff;}#sk-container-id-2 input.sk-toggleable__control:checked~div.sk-toggleable__content {max-height: 200px;max-width: 100%;overflow: auto;}#sk-container-id-2 input.sk-toggleable__control:checked~label.sk-toggleable__label-arrow:before {content: \"▾\";}#sk-container-id-2 div.sk-estimator input.sk-toggleable__control:checked~label.sk-toggleable__label {background-color: #d4ebff;}#sk-container-id-2 div.sk-label input.sk-toggleable__control:checked~label.sk-toggleable__label {background-color: #d4ebff;}#sk-container-id-2 input.sk-hidden--visually {border: 0;clip: rect(1px 1px 1px 1px);clip: rect(1px, 1px, 1px, 1px);height: 1px;margin: -1px;overflow: hidden;padding: 0;position: absolute;width: 1px;}#sk-container-id-2 div.sk-estimator {font-family: monospace;background-color: #f0f8ff;border: 1px dotted black;border-radius: 0.25em;box-sizing: border-box;margin-bottom: 0.5em;}#sk-container-id-2 div.sk-estimator:hover {background-color: #d4ebff;}#sk-container-id-2 div.sk-parallel-item::after {content: \"\";width: 100%;border-bottom: 1px solid gray;flex-grow: 1;}#sk-container-id-2 div.sk-label:hover label.sk-toggleable__label {background-color: #d4ebff;}#sk-container-id-2 div.sk-serial::before {content: \"\";position: absolute;border-left: 1px solid gray;box-sizing: border-box;top: 0;bottom: 0;left: 50%;z-index: 0;}#sk-container-id-2 div.sk-serial {display: flex;flex-direction: column;align-items: center;background-color: white;padding-right: 0.2em;padding-left: 0.2em;position: relative;}#sk-container-id-2 div.sk-item {position: relative;z-index: 1;}#sk-container-id-2 div.sk-parallel {display: flex;align-items: stretch;justify-content: center;background-color: white;position: relative;}#sk-container-id-2 div.sk-item::before, #sk-container-id-2 div.sk-parallel-item::before {content: \"\";position: absolute;border-left: 1px solid gray;box-sizing: border-box;top: 0;bottom: 0;left: 50%;z-index: -1;}#sk-container-id-2 div.sk-parallel-item {display: flex;flex-direction: column;z-index: 1;position: relative;background-color: white;}#sk-container-id-2 div.sk-parallel-item:first-child::after {align-self: flex-end;width: 50%;}#sk-container-id-2 div.sk-parallel-item:last-child::after {align-self: flex-start;width: 50%;}#sk-container-id-2 div.sk-parallel-item:only-child::after {width: 0;}#sk-container-id-2 div.sk-dashed-wrapped {border: 1px dashed gray;margin: 0 0.4em 0.5em 0.4em;box-sizing: border-box;padding-bottom: 0.4em;background-color: white;}#sk-container-id-2 div.sk-label label {font-family: monospace;font-weight: bold;display: inline-block;line-height: 1.2em;}#sk-container-id-2 div.sk-label-container {text-align: center;}#sk-container-id-2 div.sk-container {/* jupyter's `normalize.less` sets `[hidden] { display: none; }` but bootstrap.min.css set `[hidden] { display: none !important; }` so we also need the `!important` here to be able to override the default hidden behavior on the sphinx rendered scikit-learn.org. See: https://github.com/scikit-learn/scikit-learn/issues/21755 */display: inline-block !important;position: relative;}#sk-container-id-2 div.sk-text-repr-fallback {display: none;}</style><div id=\"sk-container-id-2\" class=\"sk-top-container\"><div class=\"sk-text-repr-fallback\"><pre>RandomForestClassifier(max_depth=100, max_features=2, n_estimators=200)</pre><b>In a Jupyter environment, please rerun this cell to show the HTML representation or trust the notebook. <br />On GitHub, the HTML representation is unable to render, please try loading this page with nbviewer.org.</b></div><div class=\"sk-container\" hidden><div class=\"sk-item\"><div class=\"sk-estimator sk-toggleable\"><input class=\"sk-toggleable__control sk-hidden--visually\" id=\"sk-estimator-id-2\" type=\"checkbox\" checked><label for=\"sk-estimator-id-2\" class=\"sk-toggleable__label sk-toggleable__label-arrow\">RandomForestClassifier</label><div class=\"sk-toggleable__content\"><pre>RandomForestClassifier(max_depth=100, max_features=2, n_estimators=200)</pre></div></div></div></div></div>"
      ],
      "text/plain": [
       "RandomForestClassifier(max_depth=100, max_features=2, n_estimators=200)"
      ]
     },
     "execution_count": 22,
     "metadata": {},
     "output_type": "execute_result"
    }
   ],
   "source": [
    "rf_clf = RandomForestClassifier(bootstrap=True, max_depth=100, max_features=2, n_estimators=200)\n",
    "rf_clf.fit(X_train, y_train)"
   ]
  },
  {
   "cell_type": "code",
   "execution_count": 23,
   "metadata": {},
   "outputs": [],
   "source": [
    "y_pred = rf_clf.predict(X_test)"
   ]
  },
  {
   "cell_type": "code",
   "execution_count": 24,
   "metadata": {},
   "outputs": [
    {
     "data": {
      "text/plain": [
       "(726,\n",
       " 726,\n",
       " 2331    1\n",
       " 2558    2\n",
       " 1234    1\n",
       " 1804    2\n",
       " 2165    0\n",
       "        ..\n",
       " 3441    1\n",
       " 1344    2\n",
       " 527     1\n",
       " 3197    0\n",
       " 1289    1\n",
       " Name: sentimen, Length: 2901, dtype: int64)"
      ]
     },
     "execution_count": 24,
     "metadata": {},
     "output_type": "execute_result"
    }
   ],
   "source": [
    "len(y_pred), len(y_test), y_train"
   ]
  },
  {
   "cell_type": "markdown",
   "metadata": {},
   "source": [
    "# Evaluate"
   ]
  },
  {
   "cell_type": "markdown",
   "metadata": {},
   "source": [
    "## Confusion matrix"
   ]
  },
  {
   "cell_type": "code",
   "execution_count": 25,
   "metadata": {},
   "outputs": [
    {
     "data": {
      "text/html": [
       "<div>\n",
       "<style scoped>\n",
       "    .dataframe tbody tr th:only-of-type {\n",
       "        vertical-align: middle;\n",
       "    }\n",
       "\n",
       "    .dataframe tbody tr th {\n",
       "        vertical-align: top;\n",
       "    }\n",
       "\n",
       "    .dataframe thead th {\n",
       "        text-align: right;\n",
       "    }\n",
       "</style>\n",
       "<table border=\"1\" class=\"dataframe\">\n",
       "  <thead>\n",
       "    <tr style=\"text-align: right;\">\n",
       "      <th>Predicted</th>\n",
       "      <th>0</th>\n",
       "      <th>1</th>\n",
       "      <th>2</th>\n",
       "    </tr>\n",
       "    <tr>\n",
       "      <th>Actual</th>\n",
       "      <th></th>\n",
       "      <th></th>\n",
       "      <th></th>\n",
       "    </tr>\n",
       "  </thead>\n",
       "  <tbody>\n",
       "    <tr>\n",
       "      <th>0</th>\n",
       "      <td>143</td>\n",
       "      <td>41</td>\n",
       "      <td>48</td>\n",
       "    </tr>\n",
       "    <tr>\n",
       "      <th>1</th>\n",
       "      <td>60</td>\n",
       "      <td>134</td>\n",
       "      <td>47</td>\n",
       "    </tr>\n",
       "    <tr>\n",
       "      <th>2</th>\n",
       "      <td>70</td>\n",
       "      <td>55</td>\n",
       "      <td>128</td>\n",
       "    </tr>\n",
       "  </tbody>\n",
       "</table>\n",
       "</div>"
      ],
      "text/plain": [
       "Predicted    0    1    2\n",
       "Actual                  \n",
       "0          143   41   48\n",
       "1           60  134   47\n",
       "2           70   55  128"
      ]
     },
     "execution_count": 25,
     "metadata": {},
     "output_type": "execute_result"
    }
   ],
   "source": [
    "# buat confusion matrix antara Test dan Prediksi\n",
    "pd.crosstab(y_test, y_pred, rownames=['Actual'], colnames=['Predicted'])"
   ]
  },
  {
   "cell_type": "code",
   "execution_count": 26,
   "metadata": {},
   "outputs": [
    {
     "data": {
      "image/png": "[encoded data removed]",
      "text/plain": [
       "<Figure size 1000x700 with 2 Axes>"
      ]
     },
     "metadata": {},
     "output_type": "display_data"
    }
   ],
   "source": [
    "cm = confusion_matrix(y_test, y_pred)\n",
    "plt.figure(figsize=(10,7))\n",
    "sns.heatmap(cm, annot=True, fmt='d', cmap='coolwarm', xticklabels=['negatif','netral','positif'], yticklabels=['negatif','netral','positif'])\n",
    "plt.xlabel('Predicted')\n",
    "plt.ylabel('Actual')\n",
    "plt.show()"
   ]
  },
  {
   "cell_type": "markdown",
   "metadata": {},
   "source": [
    "## Accuracy, Recall, Precision, F1 Score"
   ]
  },
  {
   "cell_type": "code",
   "execution_count": 27,
   "metadata": {},
   "outputs": [
    {
     "name": "stdout",
     "output_type": "stream",
     "text": [
      "              precision    recall  f1-score   support\n",
      "\n",
      "           0       0.52      0.62      0.57       232\n",
      "           1       0.58      0.56      0.57       241\n",
      "           2       0.57      0.51      0.54       253\n",
      "\n",
      "    accuracy                           0.56       726\n",
      "   macro avg       0.56      0.56      0.56       726\n",
      "weighted avg       0.56      0.56      0.56       726\n",
      "\n",
      "Accuracy: 0.5578512396694215\n"
     ]
    }
   ],
   "source": [
    "report = classification_report(y_test, y_pred)\n",
    "print(report)\n",
    "\n",
    "# Hitung dan cetak accuracy\n",
    "accuracy = accuracy_score(y_test, y_pred)\n",
    "print(f'Accuracy: {accuracy}')"
   ]
  },
  {
   "cell_type": "code",
   "execution_count": null,
   "metadata": {},
   "outputs": [],
   "source": []
  }
 ],
 "metadata": {
  "kernelspec": {
   "display_name": "Python 3",
   "language": "python",
   "name": "python3"
  },
  "language_info": {
   "codemirror_mode": {
    "name": "ipython",
    "version": 3
   },
   "file_extension": ".py",
   "mimetype": "text/x-python",
   "name": "python",
   "nbconvert_exporter": "python",
   "pygments_lexer": "ipython3",
   "version": "3.11.5"
  }
 },
 "nbformat": 4,
 "nbformat_minor": 2
}

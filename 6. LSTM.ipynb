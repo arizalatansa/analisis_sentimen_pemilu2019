{
 "cells": [
  {
   "cell_type": "markdown",
   "metadata": {},
   "source": [
    "# Setting Environment"
   ]
  },
  {
   "cell_type": "code",
   "execution_count": 1,
   "metadata": {},
   "outputs": [],
   "source": [
    "import numpy as np\n",
    "import pandas as pd\n",
    "import matplotlib.pyplot as plt\n",
    "import seaborn as sns\n",
    "%matplotlib inline\n",
    "\n",
    "import ast\n",
    "from sklearn.model_selection import train_test_split\n",
    "from sklearn.metrics import confusion_matrix, classification_report, accuracy_score\n",
    "from keras.preprocessing.sequence import pad_sequences\n",
    "from keras.models import Sequential, Model\n",
    "from keras.layers import  Dense, SimpleRNN, Embedding, Input, Activation, Dropout, LSTM\n",
    "from keras.utils import to_categorical\n",
    "from keras.preprocessing.text import Tokenizer\n",
    "from sklearn.feature_extraction.text import CountVectorizer, TfidfVectorizer\n",
    "from sklearn.preprocessing import LabelEncoder\n",
    "from keras.optimizers import RMSprop\n",
    "from keras.callbacks import Callback, EarlyStopping"
   ]
  },
  {
   "cell_type": "code",
   "execution_count": 2,
   "metadata": {},
   "outputs": [
    {
     "data": {
      "text/plain": [
       "((3627,), (3627,))"
      ]
     },
     "execution_count": 2,
     "metadata": {},
     "output_type": "execute_result"
    }
   ],
   "source": [
    "df = pd.read_csv('./combined_tweets.csv')\n",
    "X = df.tweet\n",
    "y = df.sentimen\n",
    "X.shape, y.shape"
   ]
  },
  {
   "cell_type": "code",
   "execution_count": 3,
   "metadata": {},
   "outputs": [
    {
     "name": "stdout",
     "output_type": "stream",
     "text": [
      "Encoded labels: [2 0 0 ... 1 2 0]\n",
      "Original labels: ['positif' 'negatif' 'negatif' ... 'netral' 'positif' 'negatif']\n"
     ]
    }
   ],
   "source": [
    "# buat label encoder\n",
    "labelencoder = LabelEncoder()\n",
    "\n",
    "y = labelencoder.fit_transform(df.sentimen)\n",
    "print('Encoded labels:', y)\n",
    "print('Original labels:', labelencoder.inverse_transform(y))"
   ]
  },
  {
   "cell_type": "markdown",
   "metadata": {},
   "source": [
    "# Data Modeling"
   ]
  },
  {
   "cell_type": "code",
   "execution_count": 4,
   "metadata": {},
   "outputs": [],
   "source": [
    "X_train, X_test, y_train, y_test = train_test_split(X, to_categorical(y,3), test_size=0.20, random_state=42)"
   ]
  },
  {
   "cell_type": "code",
   "execution_count": 5,
   "metadata": {},
   "outputs": [],
   "source": [
    "max_words = 1000\n",
    "max_len = 3000\n",
    "tok = Tokenizer(num_words=max_words)\n",
    "tok.fit_on_texts(X_train)\n",
    "X_train_sequences = tok.texts_to_sequences(X_train)\n",
    "X_train_sequences_matrix = pad_sequences(X_train_sequences,maxlen=max_len)\n",
    "\n",
    "X_test_sequences = tok.texts_to_sequences(X_test)\n",
    "X_test_sequences_matrix = pad_sequences(X_test_sequences,maxlen=max_len)\n"
   ]
  },
  {
   "cell_type": "code",
   "execution_count": 6,
   "metadata": {},
   "outputs": [
    {
     "data": {
      "text/plain": [
       "((2901,), (726,), (2901, 3), (726, 3))"
      ]
     },
     "execution_count": 6,
     "metadata": {},
     "output_type": "execute_result"
    }
   ],
   "source": [
    "X_train.shape, X_test.shape, y_train.shape, y_test.shape"
   ]
  },
  {
   "cell_type": "code",
   "execution_count": 7,
   "metadata": {},
   "outputs": [
    {
     "data": {
      "text/plain": [
       "((2901, 3000), (726, 3000), (2901, 3), (726, 3))"
      ]
     },
     "execution_count": 7,
     "metadata": {},
     "output_type": "execute_result"
    }
   ],
   "source": [
    "X_train_sequences_matrix.shape, X_test_sequences_matrix.shape, y_train.shape, y_test.shape"
   ]
  },
  {
   "cell_type": "markdown",
   "metadata": {},
   "source": [
    "# Model Training with:"
   ]
  },
  {
   "cell_type": "code",
   "execution_count": 8,
   "metadata": {},
   "outputs": [],
   "source": [
    "# define RNN\n",
    "def SNN():\n",
    "    inputs = Input(name='inputs', shape=[max_len])\n",
    "    layer = Embedding(max_words, 5, input_length=max_len)(inputs)\n",
    "    layer = LSTM(8)(layer)\n",
    "    layer = Dense(4, name='FC1')(layer)\n",
    "    layer = Dropout(0.2)(layer)\n",
    "    layer = Activation('relu')(layer)\n",
    "    layer = Dropout(0.2)(layer)\n",
    "    layer = Dense(3, name='out_layer')(layer)\n",
    "    layer = Activation('softmax')(layer)\n",
    "    model = Model(inputs=inputs, outputs=layer)\n",
    "    return model"
   ]
  },
  {
   "cell_type": "code",
   "execution_count": 9,
   "metadata": {},
   "outputs": [
    {
     "name": "stdout",
     "output_type": "stream",
     "text": [
      "Model: \"model\"\n",
      "_________________________________________________________________\n",
      " Layer (type)                Output Shape              Param #   \n",
      "=================================================================\n",
      " inputs (InputLayer)         [(None, 3000)]            0         \n",
      "                                                                 \n",
      " embedding (Embedding)       (None, 3000, 5)           5000      \n",
      "                                                                 \n",
      " lstm (LSTM)                 (None, 8)                 448       \n",
      "                                                                 \n",
      " FC1 (Dense)                 (None, 4)                 36        \n",
      "                                                                 \n",
      " dropout (Dropout)           (None, 4)                 0         \n",
      "                                                                 \n",
      " activation (Activation)     (None, 4)                 0         \n",
      "                                                                 \n",
      " dropout_1 (Dropout)         (None, 4)                 0         \n",
      "                                                                 \n",
      " out_layer (Dense)           (None, 3)                 15        \n",
      "                                                                 \n",
      " activation_1 (Activation)   (None, 3)                 0         \n",
      "                                                                 \n",
      "=================================================================\n",
      "Total params: 5499 (21.48 KB)\n",
      "Trainable params: 5499 (21.48 KB)\n",
      "Non-trainable params: 0 (0.00 Byte)\n",
      "_________________________________________________________________\n"
     ]
    }
   ],
   "source": [
    "model = SNN()\n",
    "model.summary()\n",
    "model.compile(loss='categorical_crossentropy', optimizer=RMSprop(), metrics=['accuracy'])"
   ]
  },
  {
   "cell_type": "code",
   "execution_count": 10,
   "metadata": {},
   "outputs": [
    {
     "name": "stdout",
     "output_type": "stream",
     "text": [
      "Epoch 1/25\n",
      "73/73 [==============================] - 143s 2s/step - loss: 1.0986 - accuracy: 0.3310 - val_loss: 1.0968 - val_accuracy: 0.3408\n",
      "Epoch 2/25\n",
      "73/73 [==============================] - 166s 2s/step - loss: 1.0924 - accuracy: 0.3767 - val_loss: 1.0859 - val_accuracy: 0.4475\n",
      "Epoch 3/25\n",
      "73/73 [==============================] - 181s 2s/step - loss: 1.0792 - accuracy: 0.4082 - val_loss: 1.0678 - val_accuracy: 0.4682\n",
      "Epoch 4/25\n",
      "73/73 [==============================] - 159s 2s/step - loss: 1.0613 - accuracy: 0.4190 - val_loss: 1.0466 - val_accuracy: 0.4991\n",
      "Epoch 5/25\n",
      "73/73 [==============================] - 90s 1s/step - loss: 1.0420 - accuracy: 0.4418 - val_loss: 1.0339 - val_accuracy: 0.4940\n",
      "Epoch 6/25\n",
      "73/73 [==============================] - 79s 1s/step - loss: 1.0203 - accuracy: 0.4737 - val_loss: 1.0110 - val_accuracy: 0.5112\n",
      "Epoch 7/25\n",
      "73/73 [==============================] - 83s 1s/step - loss: 0.9940 - accuracy: 0.5030 - val_loss: 0.9759 - val_accuracy: 0.5353\n",
      "Epoch 8/25\n",
      "73/73 [==============================] - 85s 1s/step - loss: 0.9762 - accuracy: 0.5121 - val_loss: 0.9542 - val_accuracy: 0.5542\n",
      "Epoch 9/25\n",
      "73/73 [==============================] - 84s 1s/step - loss: 0.9403 - accuracy: 0.5341 - val_loss: 0.9361 - val_accuracy: 0.5714\n",
      "Epoch 10/25\n",
      "73/73 [==============================] - 84s 1s/step - loss: 0.9222 - accuracy: 0.5608 - val_loss: 0.9250 - val_accuracy: 0.5783\n",
      "Epoch 11/25\n",
      "73/73 [==============================] - 84s 1s/step - loss: 0.9034 - accuracy: 0.5517 - val_loss: 0.9217 - val_accuracy: 0.5818\n",
      "Epoch 12/25\n",
      "73/73 [==============================] - 85s 1s/step - loss: 0.8905 - accuracy: 0.5504 - val_loss: 0.9115 - val_accuracy: 0.5800\n",
      "Epoch 13/25\n",
      "73/73 [==============================] - 85s 1s/step - loss: 0.8775 - accuracy: 0.5677 - val_loss: 0.9086 - val_accuracy: 0.5886\n",
      "Epoch 14/25\n",
      "73/73 [==============================] - 91s 1s/step - loss: 0.8658 - accuracy: 0.5841 - val_loss: 0.9025 - val_accuracy: 0.5697\n",
      "Epoch 15/25\n",
      "73/73 [==============================] - 86s 1s/step - loss: 0.8594 - accuracy: 0.5806 - val_loss: 0.9067 - val_accuracy: 0.5886\n",
      "Epoch 16/25\n",
      "73/73 [==============================] - 85s 1s/step - loss: 0.8403 - accuracy: 0.5560 - val_loss: 0.9146 - val_accuracy: 0.5680\n",
      "Epoch 17/25\n",
      "73/73 [==============================] - 86s 1s/step - loss: 0.8304 - accuracy: 0.6099 - val_loss: 0.9154 - val_accuracy: 0.5852\n",
      "Epoch 18/25\n",
      "73/73 [==============================] - 88s 1s/step - loss: 0.8661 - accuracy: 0.6142 - val_loss: 0.9129 - val_accuracy: 0.5886\n",
      "Epoch 19/25\n",
      "73/73 [==============================] - 87s 1s/step - loss: 0.8170 - accuracy: 0.5961 - val_loss: 0.9329 - val_accuracy: 0.6041\n",
      "Epoch 20/25\n",
      "73/73 [==============================] - 88s 1s/step - loss: 0.8201 - accuracy: 0.6134 - val_loss: 0.9414 - val_accuracy: 0.5938\n",
      "Epoch 21/25\n",
      "73/73 [==============================] - 87s 1s/step - loss: 0.8075 - accuracy: 0.6267 - val_loss: 0.9552 - val_accuracy: 0.5818\n",
      "Epoch 22/25\n",
      "73/73 [==============================] - 83s 1s/step - loss: 0.7929 - accuracy: 0.6203 - val_loss: 0.9501 - val_accuracy: 0.5972\n",
      "Epoch 23/25\n",
      "73/73 [==============================] - 85s 1s/step - loss: 0.7911 - accuracy: 0.6276 - val_loss: 0.9297 - val_accuracy: 0.6007\n",
      "Epoch 24/25\n",
      "73/73 [==============================] - 83s 1s/step - loss: 0.7812 - accuracy: 0.6353 - val_loss: 0.9638 - val_accuracy: 0.5938\n",
      "Epoch 25/25\n",
      "73/73 [==============================] - 83s 1s/step - loss: 0.7764 - accuracy: 0.6293 - val_loss: 0.9268 - val_accuracy: 0.6145\n"
     ]
    },
    {
     "data": {
      "text/plain": [
       "<keras.src.callbacks.History at 0x1f9976c90d0>"
      ]
     },
     "execution_count": 10,
     "metadata": {},
     "output_type": "execute_result"
    }
   ],
   "source": [
    "model.fit(X_train_sequences_matrix, \n",
    "          y_train,\n",
    "          batch_size=32,\n",
    "          epochs=25,\n",
    "          #validation_data=(X_test_sequences_matrix, y_test),\n",
    "          validation_split=0.2,\n",
    "        #   callbacks=[EarlyStopping(monitor='val_loss', min_delta=0.0001)]\n",
    "          )"
   ]
  },
  {
   "cell_type": "markdown",
   "metadata": {},
   "source": [
    "# Model Evaluation"
   ]
  },
  {
   "cell_type": "code",
   "execution_count": 11,
   "metadata": {},
   "outputs": [
    {
     "data": {
      "text/plain": [
       "0.34573002754820936"
      ]
     },
     "execution_count": 11,
     "metadata": {},
     "output_type": "execute_result"
    }
   ],
   "source": [
    "baseline_test_acc = np.mean(np.dot(y_test, np.arange(3)) == 2)\n",
    "baseline_test_acc"
   ]
  },
  {
   "cell_type": "code",
   "execution_count": 12,
   "metadata": {},
   "outputs": [
    {
     "name": "stdout",
     "output_type": "stream",
     "text": [
      "23/23 [==============================] - 4s 178ms/step - loss: 0.9957 - accuracy: 0.5592\n",
      "Test set\n",
      "  Loss: 0.996\n",
      "  Accuracy: 0.559\n"
     ]
    }
   ],
   "source": [
    "accr = model.evaluate(X_test_sequences_matrix, y_test)\n",
    "print('Test set\\n  Loss: {:0.3f}\\n  Accuracy: {:0.3f}'.format(accr[0],accr[1]))"
   ]
  },
  {
   "cell_type": "code",
   "execution_count": 13,
   "metadata": {},
   "outputs": [
    {
     "data": {
      "text/plain": [
       "array([2, 1, 1, 0, 1, 2, 2, 1, 2, 2, 1, 2, 1, 0, 0, 2, 2, 1, 2, 2, 0, 1,\n",
       "       2, 2, 0, 0, 2, 0, 1, 0, 2, 0, 1, 2, 0, 2, 2, 0, 2, 1, 1, 0, 0, 1,\n",
       "       1, 1, 1, 1, 0, 2, 0, 1, 2, 1, 2, 2, 0, 1, 2, 2, 1, 0, 0, 2, 1, 1,\n",
       "       1, 0, 0, 0, 1, 1, 1, 2, 1, 2, 2, 1, 1, 1, 1, 2, 1, 0, 0, 0, 2, 0,\n",
       "       0, 1, 0, 0, 1, 1, 2, 1, 1, 2, 0, 2, 1, 1, 2, 2, 2, 1, 0, 0, 0, 0,\n",
       "       1, 2, 2, 2, 2, 2, 1, 2, 0, 2, 2, 1, 1, 1, 0, 0, 2, 1, 0, 1, 0, 1,\n",
       "       2, 0, 0, 2, 1, 0, 1, 1, 1, 2, 1, 1, 2, 0, 2, 2, 2, 2, 2, 1, 0, 0,\n",
       "       2, 0, 0, 0, 2, 0, 1, 1, 2, 1, 1, 2, 2, 2, 0, 1, 1, 0, 1, 0, 1, 2,\n",
       "       1, 1, 1, 1, 0, 2, 1, 2, 2, 1, 0, 2, 1, 0, 2, 2, 2, 2, 2, 1, 0, 0,\n",
       "       2, 2, 1, 1, 0, 0, 0, 0, 1, 1, 0, 0, 1, 2, 0, 1, 0, 1, 2, 1, 0, 0,\n",
       "       1, 2, 0, 0, 2, 1, 2, 0, 2, 1, 2, 1, 2, 1, 2, 0, 1, 0, 0, 1, 2, 2,\n",
       "       1, 1, 2, 1, 1, 1, 1, 2, 2, 0, 0, 0, 1, 0, 0, 0, 1, 0, 2, 2, 1, 1,\n",
       "       1, 2, 2, 1, 1, 2, 2, 2, 2, 2, 2, 0, 2, 0, 2, 1, 0, 2, 1, 2, 1, 0,\n",
       "       2, 1, 0, 0, 2, 0, 0, 2, 2, 2, 1, 1, 2, 1, 0, 2, 0, 1, 2, 2, 1, 1,\n",
       "       0, 1, 2, 2, 0, 2, 1, 0, 1, 2, 1, 0, 0, 2, 1, 2, 2, 2, 2, 2, 1, 1,\n",
       "       1, 2, 2, 0, 1, 1, 0, 2, 2, 1, 0, 0, 1, 1, 1, 0, 0, 0, 2, 0, 2, 1,\n",
       "       1, 1, 0, 0, 0, 2, 2, 0, 0, 1, 2, 0, 2, 1, 2, 1, 2, 1, 0, 1, 1, 1,\n",
       "       1, 1, 2, 0, 2, 0, 1, 0, 1, 2, 0, 1, 2, 1, 1, 0, 0, 1, 2, 0, 1, 0,\n",
       "       2, 2, 2, 0, 0, 1, 0, 1, 1, 2, 2, 2, 0, 2, 0, 0, 0, 0, 2, 2, 2, 1,\n",
       "       0, 2, 1, 1, 2, 1, 2, 1, 2, 2, 1, 0, 2, 2, 1, 1, 1, 1, 1, 0, 0, 1,\n",
       "       2, 0, 1, 1, 2, 1, 0, 1, 0, 2, 1, 1, 2, 2, 1, 0, 1, 1, 2, 1, 1, 2,\n",
       "       0, 1, 2, 0, 2, 0, 2, 2, 2, 0, 0, 2, 0, 1, 0, 1, 1, 2, 2, 2, 1, 2,\n",
       "       0, 0, 1, 0, 1, 0, 0, 1, 0, 1, 0, 2, 0, 0, 2, 2, 1, 1, 1, 1, 2, 2,\n",
       "       2, 2, 1, 2, 1, 0, 1, 1, 0, 2, 1, 1, 1, 0, 0, 2, 0, 2, 0, 0, 2, 1,\n",
       "       1, 0, 2, 2, 0, 0, 0, 1, 1, 2, 1, 0, 0, 1, 0, 2, 2, 0, 0, 1, 0, 2,\n",
       "       2, 1, 0, 0, 1, 2, 2, 2, 1, 1, 2, 0, 0, 1, 1, 2, 1, 1, 0, 2, 2, 0,\n",
       "       0, 1, 2, 1, 1, 1, 2, 1, 2, 0, 2, 1, 2, 0, 1, 0, 1, 2, 2, 0, 0, 0,\n",
       "       0, 1, 1, 2, 1, 2, 0, 2, 2, 2, 2, 2, 0, 1, 1, 1, 1, 0, 0, 2, 2, 1,\n",
       "       2, 0, 0, 2, 0, 0, 1, 0, 2, 1, 2, 2, 2, 2, 0, 0, 2, 0, 2, 1, 2, 2,\n",
       "       2, 1, 1, 0, 1, 1, 0, 0, 0, 0, 2, 2, 2, 2, 1, 1, 0, 1, 2, 1, 1, 0,\n",
       "       1, 1, 1, 2, 2, 1, 1, 0, 1, 0, 0, 1, 1, 0, 1, 0, 1, 1, 2, 2, 2, 0,\n",
       "       1, 0, 2, 2, 0, 2, 0, 0, 1, 0, 2, 1, 2, 1, 1, 1, 2, 2, 2, 2, 0, 1,\n",
       "       2, 2, 0, 2, 0, 1, 2, 1, 1, 0, 0, 2, 2, 1, 0, 1, 0, 0, 2, 0, 2, 1],\n",
       "      dtype=int64)"
      ]
     },
     "execution_count": 13,
     "metadata": {},
     "output_type": "execute_result"
    }
   ],
   "source": [
    "# mengembalikan to_categorical y_test menjadi list\n",
    "y_test = np.argmax(y_test,axis=1)\n",
    "y_test"
   ]
  },
  {
   "cell_type": "code",
   "execution_count": 14,
   "metadata": {},
   "outputs": [
    {
     "name": "stdout",
     "output_type": "stream",
     "text": [
      "23/23 [==============================] - 5s 190ms/step\n"
     ]
    },
    {
     "data": {
      "text/plain": [
       "array([1, 1, 2, 1, 1, 2, 1, 0, 2, 0, 1, 2, 1, 1, 0, 2, 1, 0, 0, 0, 2, 1,\n",
       "       0, 2, 0, 0, 2, 1, 1, 1, 2, 0, 0, 2, 0, 2, 0, 2, 2, 1, 1, 0, 0, 1,\n",
       "       1, 1, 1, 1, 1, 0, 1, 1, 2, 0, 2, 2, 0, 1, 0, 0, 2, 1, 1, 2, 1, 0,\n",
       "       0, 1, 1, 0, 1, 1, 1, 1, 1, 0, 2, 2, 0, 0, 0, 2, 1, 0, 1, 1, 2, 2,\n",
       "       1, 1, 2, 2, 2, 2, 2, 0, 1, 2, 0, 0, 1, 0, 1, 2, 0, 1, 0, 1, 0, 1,\n",
       "       1, 2, 2, 1, 2, 1, 0, 0, 1, 2, 1, 1, 0, 1, 0, 0, 2, 1, 0, 1, 0, 1,\n",
       "       2, 2, 2, 2, 1, 2, 0, 1, 0, 2, 1, 1, 2, 0, 1, 2, 2, 0, 2, 1, 1, 0,\n",
       "       2, 0, 1, 1, 2, 0, 1, 0, 2, 1, 1, 1, 2, 1, 2, 1, 0, 0, 0, 0, 1, 2,\n",
       "       1, 1, 1, 1, 1, 1, 1, 2, 1, 1, 0, 2, 0, 0, 2, 0, 2, 2, 1, 1, 0, 2,\n",
       "       2, 2, 1, 0, 0, 0, 2, 1, 0, 2, 0, 1, 1, 1, 1, 0, 2, 1, 0, 1, 0, 2,\n",
       "       1, 2, 2, 2, 1, 1, 2, 1, 0, 2, 2, 1, 2, 0, 2, 2, 1, 0, 0, 1, 0, 1,\n",
       "       0, 2, 0, 1, 0, 1, 1, 1, 2, 1, 0, 0, 1, 0, 0, 0, 2, 0, 0, 2, 1, 2,\n",
       "       0, 0, 0, 2, 0, 1, 0, 2, 2, 2, 2, 1, 0, 0, 2, 1, 2, 2, 2, 2, 1, 1,\n",
       "       2, 1, 0, 0, 1, 2, 1, 0, 2, 2, 1, 2, 0, 1, 1, 2, 0, 0, 2, 2, 0, 0,\n",
       "       1, 1, 1, 2, 1, 0, 1, 1, 1, 2, 1, 0, 0, 2, 1, 2, 2, 0, 2, 2, 1, 0,\n",
       "       1, 1, 0, 0, 2, 2, 1, 2, 2, 1, 2, 1, 1, 1, 1, 0, 0, 0, 0, 1, 2, 0,\n",
       "       1, 1, 1, 2, 0, 2, 2, 1, 1, 1, 0, 0, 2, 1, 0, 1, 2, 1, 1, 1, 1, 0,\n",
       "       1, 1, 0, 1, 2, 0, 1, 2, 1, 0, 0, 1, 2, 1, 1, 1, 1, 1, 2, 0, 1, 0,\n",
       "       0, 2, 0, 2, 0, 1, 0, 1, 1, 0, 2, 0, 0, 2, 0, 1, 0, 2, 2, 0, 1, 1,\n",
       "       1, 1, 1, 1, 2, 1, 1, 0, 2, 1, 0, 0, 1, 2, 1, 0, 1, 0, 1, 0, 1, 2,\n",
       "       2, 1, 0, 1, 2, 2, 1, 1, 1, 2, 0, 0, 0, 2, 1, 1, 1, 1, 2, 1, 0, 2,\n",
       "       1, 2, 2, 0, 2, 2, 0, 1, 0, 1, 1, 2, 0, 1, 0, 2, 1, 0, 0, 2, 1, 0,\n",
       "       2, 1, 0, 1, 0, 2, 0, 0, 0, 0, 0, 0, 1, 0, 1, 2, 0, 1, 0, 0, 1, 2,\n",
       "       2, 1, 0, 2, 0, 1, 1, 1, 1, 2, 1, 1, 1, 1, 1, 1, 0, 0, 1, 1, 1, 1,\n",
       "       1, 0, 1, 2, 0, 0, 0, 2, 1, 2, 1, 1, 2, 1, 0, 1, 0, 0, 1, 1, 1, 2,\n",
       "       0, 1, 0, 0, 0, 2, 1, 1, 0, 1, 2, 1, 0, 0, 1, 2, 1, 0, 1, 2, 0, 0,\n",
       "       1, 2, 2, 1, 1, 1, 0, 1, 2, 1, 0, 1, 2, 1, 0, 0, 1, 0, 1, 1, 1, 0,\n",
       "       0, 0, 1, 0, 1, 2, 0, 2, 1, 2, 2, 2, 0, 1, 1, 1, 2, 0, 0, 2, 0, 0,\n",
       "       1, 0, 1, 2, 1, 1, 0, 0, 2, 0, 2, 0, 1, 2, 0, 0, 2, 0, 0, 1, 0, 2,\n",
       "       0, 0, 0, 0, 2, 1, 0, 2, 1, 0, 2, 2, 2, 1, 2, 1, 0, 2, 0, 1, 1, 2,\n",
       "       1, 0, 1, 0, 2, 1, 2, 1, 1, 1, 0, 0, 2, 0, 0, 0, 2, 2, 2, 1, 2, 0,\n",
       "       1, 1, 2, 1, 0, 2, 0, 0, 2, 1, 0, 1, 2, 1, 1, 0, 0, 2, 1, 2, 1, 1,\n",
       "       0, 2, 0, 1, 1, 0, 2, 0, 1, 0, 2, 2, 0, 0, 0, 2, 0, 0, 2, 0, 2, 1],\n",
       "      dtype=int64)"
      ]
     },
     "execution_count": 14,
     "metadata": {},
     "output_type": "execute_result"
    }
   ],
   "source": [
    "# predict y_pred untuk Confusion Matrix\n",
    "y_pred = model.predict(X_test_sequences_matrix)\n",
    "y_pred_class = np.argmax(y_pred, axis=1)\n",
    "y_pred_class"
   ]
  },
  {
   "cell_type": "code",
   "execution_count": 15,
   "metadata": {},
   "outputs": [
    {
     "data": {
      "text/plain": [
       "array([[108,  81,  30],\n",
       "       [ 68, 157,  31],\n",
       "       [ 64,  46, 141]], dtype=int64)"
      ]
     },
     "execution_count": 15,
     "metadata": {},
     "output_type": "execute_result"
    }
   ],
   "source": [
    "# Assuming y_true and y_pred are your data\n",
    "cm = confusion_matrix(y_test, np.rint(y_pred_class))\n",
    "cm"
   ]
  },
  {
   "cell_type": "code",
   "execution_count": 16,
   "metadata": {},
   "outputs": [
    {
     "data": {
      "image/png": "[encoded data removed]",
      "text/plain": [
       "<Figure size 640x480 with 2 Axes>"
      ]
     },
     "metadata": {},
     "output_type": "display_data"
    }
   ],
   "source": [
    "fig, ax = plt.subplots()\n",
    "sns.heatmap(cm, annot=True, fmt='g', ax=ax)\n",
    "\n",
    "# labels, title and ticks\n",
    "ax.set_xlabel('Predicted labels')\n",
    "ax.set_ylabel('True labels')\n",
    "ax.set_title('Confusion Matrix')\n",
    "ax.xaxis.set_ticklabels(['negatif','netral', 'positif'])  # replace with your classes\n",
    "ax.yaxis.set_ticklabels(['negatif','netral', 'positif'])  # replace with your classes\n",
    "\n",
    "plt.show()"
   ]
  },
  {
   "cell_type": "code",
   "execution_count": 17,
   "metadata": {},
   "outputs": [
    {
     "name": "stdout",
     "output_type": "stream",
     "text": [
      "              precision    recall  f1-score   support\n",
      "\n",
      "           0       0.45      0.49      0.47       219\n",
      "           1       0.55      0.61      0.58       256\n",
      "           2       0.70      0.56      0.62       251\n",
      "\n",
      "    accuracy                           0.56       726\n",
      "   macro avg       0.57      0.56      0.56       726\n",
      "weighted avg       0.57      0.56      0.56       726\n",
      "\n"
     ]
    }
   ],
   "source": [
    "report = classification_report(y_test, np.rint(y_pred_class))\n",
    "print(report)"
   ]
  }
 ],
 "metadata": {
  "kernelspec": {
   "display_name": "Python 3",
   "language": "python",
   "name": "python3"
  },
  "language_info": {
   "codemirror_mode": {
    "name": "ipython",
    "version": 3
   },
   "file_extension": ".py",
   "mimetype": "text/x-python",
   "name": "python",
   "nbconvert_exporter": "python",
   "pygments_lexer": "ipython3",
   "version": "3.11.5"
  }
 },
 "nbformat": 4,
 "nbformat_minor": 2
}
